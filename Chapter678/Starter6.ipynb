{
 "cells": [
  {
   "cell_type": "markdown",
   "id": "1a25d9cf",
   "metadata": {},
   "source": [
    "In pandas you can read data from various file formats such as CSV, Excel, JSON, HTML, SQL, and many more. First we need to locate the file."
   ]
  },
  {
   "cell_type": "code",
   "execution_count": 1,
   "id": "220890b3-5a99-4892-a955-4eb2f339ae34",
   "metadata": {},
   "outputs": [
    {
     "data": {
      "text/plain": [
       "'/Users/teddy/Documents/GitHub/Week6/McKinneyBook/Chapter678'"
      ]
     },
     "execution_count": 1,
     "metadata": {},
     "output_type": "execute_result"
    }
   ],
   "source": [
    "import os\n",
    "\n",
    "os.getcwd() # Check the current working directory"
   ]
  },
  {
   "cell_type": "code",
   "execution_count": 5,
   "id": "054e3069",
   "metadata": {},
   "outputs": [
    {
     "data": {
      "text/plain": [
       "'/Users/teddy/Documents/GitHub/Week6/McKinneyBook/Chapter5'"
      ]
     },
     "execution_count": 5,
     "metadata": {},
     "output_type": "execute_result"
    }
   ],
   "source": [
    "os.chdir('/Users/teddy/Documents/GitHub/Week6/McKinneyBook/Chapter5')\n",
    "os.getcwd() # Check the updated working directory"
   ]
  },
  {
   "cell_type": "code",
   "execution_count": 7,
   "id": "64b05896",
   "metadata": {},
   "outputs": [
    {
     "data": {
      "text/plain": [
       "['test.csv', 'train.csv', 'gender_submission.csv']"
      ]
     },
     "execution_count": 7,
     "metadata": {},
     "output_type": "execute_result"
    }
   ],
   "source": [
    "os.listdir('/Users/teddy/Documents/GitHub/Week6/McKinneyBook/Chapter5/titanic') # List all files in the current directory"
   ]
  },
  {
   "cell_type": "markdown",
   "id": "072415bf",
   "metadata": {},
   "source": [
    "Data is commonly stored in CSV and TSV formats. Let's read a CSV file using pandas."
   ]
  },
  {
   "cell_type": "code",
   "execution_count": 9,
   "id": "7ddc8c02",
   "metadata": {},
   "outputs": [
    {
     "data": {
      "text/html": [
       "<div>\n",
       "<style scoped>\n",
       "    .dataframe tbody tr th:only-of-type {\n",
       "        vertical-align: middle;\n",
       "    }\n",
       "\n",
       "    .dataframe tbody tr th {\n",
       "        vertical-align: top;\n",
       "    }\n",
       "\n",
       "    .dataframe thead th {\n",
       "        text-align: right;\n",
       "    }\n",
       "</style>\n",
       "<table border=\"1\" class=\"dataframe\">\n",
       "  <thead>\n",
       "    <tr style=\"text-align: right;\">\n",
       "      <th></th>\n",
       "      <th>PassengerId</th>\n",
       "      <th>Survived</th>\n",
       "      <th>Pclass</th>\n",
       "      <th>Name</th>\n",
       "      <th>Sex</th>\n",
       "      <th>Age</th>\n",
       "      <th>SibSp</th>\n",
       "      <th>Parch</th>\n",
       "      <th>Ticket</th>\n",
       "      <th>Fare</th>\n",
       "      <th>Cabin</th>\n",
       "      <th>Embarked</th>\n",
       "    </tr>\n",
       "  </thead>\n",
       "  <tbody>\n",
       "    <tr>\n",
       "      <th>0</th>\n",
       "      <td>1</td>\n",
       "      <td>0</td>\n",
       "      <td>3</td>\n",
       "      <td>Braund, Mr. Owen Harris</td>\n",
       "      <td>male</td>\n",
       "      <td>22.0</td>\n",
       "      <td>1</td>\n",
       "      <td>0</td>\n",
       "      <td>A/5 21171</td>\n",
       "      <td>7.2500</td>\n",
       "      <td>NaN</td>\n",
       "      <td>S</td>\n",
       "    </tr>\n",
       "    <tr>\n",
       "      <th>1</th>\n",
       "      <td>2</td>\n",
       "      <td>1</td>\n",
       "      <td>1</td>\n",
       "      <td>Cumings, Mrs. John Bradley (Florence Briggs Th...</td>\n",
       "      <td>female</td>\n",
       "      <td>38.0</td>\n",
       "      <td>1</td>\n",
       "      <td>0</td>\n",
       "      <td>PC 17599</td>\n",
       "      <td>71.2833</td>\n",
       "      <td>C85</td>\n",
       "      <td>C</td>\n",
       "    </tr>\n",
       "    <tr>\n",
       "      <th>2</th>\n",
       "      <td>3</td>\n",
       "      <td>1</td>\n",
       "      <td>3</td>\n",
       "      <td>Heikkinen, Miss. Laina</td>\n",
       "      <td>female</td>\n",
       "      <td>26.0</td>\n",
       "      <td>0</td>\n",
       "      <td>0</td>\n",
       "      <td>STON/O2. 3101282</td>\n",
       "      <td>7.9250</td>\n",
       "      <td>NaN</td>\n",
       "      <td>S</td>\n",
       "    </tr>\n",
       "    <tr>\n",
       "      <th>3</th>\n",
       "      <td>4</td>\n",
       "      <td>1</td>\n",
       "      <td>1</td>\n",
       "      <td>Futrelle, Mrs. Jacques Heath (Lily May Peel)</td>\n",
       "      <td>female</td>\n",
       "      <td>35.0</td>\n",
       "      <td>1</td>\n",
       "      <td>0</td>\n",
       "      <td>113803</td>\n",
       "      <td>53.1000</td>\n",
       "      <td>C123</td>\n",
       "      <td>S</td>\n",
       "    </tr>\n",
       "    <tr>\n",
       "      <th>4</th>\n",
       "      <td>5</td>\n",
       "      <td>0</td>\n",
       "      <td>3</td>\n",
       "      <td>Allen, Mr. William Henry</td>\n",
       "      <td>male</td>\n",
       "      <td>35.0</td>\n",
       "      <td>0</td>\n",
       "      <td>0</td>\n",
       "      <td>373450</td>\n",
       "      <td>8.0500</td>\n",
       "      <td>NaN</td>\n",
       "      <td>S</td>\n",
       "    </tr>\n",
       "  </tbody>\n",
       "</table>\n",
       "</div>"
      ],
      "text/plain": [
       "   PassengerId  Survived  Pclass  \\\n",
       "0            1         0       3   \n",
       "1            2         1       1   \n",
       "2            3         1       3   \n",
       "3            4         1       1   \n",
       "4            5         0       3   \n",
       "\n",
       "                                                Name     Sex   Age  SibSp  \\\n",
       "0                            Braund, Mr. Owen Harris    male  22.0      1   \n",
       "1  Cumings, Mrs. John Bradley (Florence Briggs Th...  female  38.0      1   \n",
       "2                             Heikkinen, Miss. Laina  female  26.0      0   \n",
       "3       Futrelle, Mrs. Jacques Heath (Lily May Peel)  female  35.0      1   \n",
       "4                           Allen, Mr. William Henry    male  35.0      0   \n",
       "\n",
       "   Parch            Ticket     Fare Cabin Embarked  \n",
       "0      0         A/5 21171   7.2500   NaN        S  \n",
       "1      0          PC 17599  71.2833   C85        C  \n",
       "2      0  STON/O2. 3101282   7.9250   NaN        S  \n",
       "3      0            113803  53.1000  C123        S  \n",
       "4      0            373450   8.0500   NaN        S  "
      ]
     },
     "execution_count": 9,
     "metadata": {},
     "output_type": "execute_result"
    }
   ],
   "source": [
    "import pandas as pd\n",
    "\n",
    "titanic_train = pd.read_csv('titanic/train.csv')\n",
    "\n",
    "titanic_train.head() # Display the first few rows of the DataFrame"
   ]
  },
  {
   "cell_type": "markdown",
   "id": "0fc696a1",
   "metadata": {},
   "source": [
    "To read a TSV file, you can use pd.read_tab() instead of pd.read_csv()."
   ]
  },
  {
   "cell_type": "markdown",
   "id": "19276c8a",
   "metadata": {},
   "source": [
    "To read excel files, you can use pd.read_excel('file/path', sheet_name = 'nameOfSheet')."
   ]
  },
  {
   "cell_type": "markdown",
   "id": "44a7dc5f",
   "metadata": {},
   "source": [
    "The internet gives you access to more data than you could ever hope to analyze\n",
    "The easiest way to go about this is to simply download a csv, tsv, or excel file from a website and then read it into pandas.\n",
    "\n",
    "Alternatively when can copy and paste from a website with out clipboard and use      pd.read_clipboard() to read data directly from the clipboard. Better yet copy the data and paste it into excel and then use pd.read_excel() to read it.\n",
    "\n",
    "Pandas can also read html tables from websites. To do this, you need to know the url of the website and the html table you want to read. The read_html() function does its best job of reading tables from websites but it may not always work perfectly."
   ]
  },
  {
   "cell_type": "markdown",
   "id": "93fddda5",
   "metadata": {},
   "source": [
    "All you need to know to write data to an easy format like csv is the df.to_csv() function."
   ]
  },
  {
   "cell_type": "markdown",
   "id": "2c4ce052",
   "metadata": {},
   "source": [
    "Not all data formats were covered in this course but pandas can handle a wide range of file formats and if it can't there is a library that can convert the data to a format that pandas can handle."
   ]
  }
 ],
 "metadata": {
  "kernelspec": {
   "display_name": "base",
   "language": "python",
   "name": "python3"
  },
  "language_info": {
   "codemirror_mode": {
    "name": "ipython",
    "version": 3
   },
   "file_extension": ".py",
   "mimetype": "text/x-python",
   "name": "python",
   "nbconvert_exporter": "python",
   "pygments_lexer": "ipython3",
   "version": "3.12.4"
  }
 },
 "nbformat": 4,
 "nbformat_minor": 5
}
