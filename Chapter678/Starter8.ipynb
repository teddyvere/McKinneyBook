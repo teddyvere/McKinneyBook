{
 "cells": [
  {
   "cell_type": "code",
   "execution_count": null,
   "id": "220890b3-5a99-4892-a955-4eb2f339ae34",
   "metadata": {
    "vscode": {
     "languageId": "python"
    }
   },
   "outputs": [],
   "source": []
  }
 ],
 "metadata": {
  "kernelspec": {
   "display_name": "",
   "name": ""
  },
  "language_info": {
   "name": ""
  }
 },
 "nbformat": 4,
 "nbformat_minor": 5
}
