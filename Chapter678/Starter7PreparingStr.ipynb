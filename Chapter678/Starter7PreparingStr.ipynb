{
 "cells": [
  {
   "cell_type": "markdown",
   "id": "28b30711",
   "metadata": {},
   "source": [
    "# Working with text data\n",
    "\n",
    "Lets work with a sql library that contains reddit user comments from 2015. Lots look in the minnesota timberwolves subreddit."
   ]
  },
  {
   "cell_type": "code",
   "execution_count": 2,
   "id": "220890b3-5a99-4892-a955-4eb2f339ae34",
   "metadata": {},
   "outputs": [
    {
     "name": "stdout",
     "output_type": "stream",
     "text": [
      "(4859,)\n"
     ]
    },
    {
     "data": {
      "text/plain": [
       "0    BIG HOMIE NURKIC! But seriously what the fuck....\n",
       "1    Im kind of pissed off right now.  Obviously th...\n",
       "2                                             Woops :|\n",
       "3    /u/PussyAssNigga makes perfect sense. I watche...\n",
       "4         It wouldve been Kris Dunn :-(\\n\\nIdk, Payne?\n",
       "5    I want George Lucas just for the joke possibil...\n",
       "6                                            [deleted]\n",
       "7                                        Delon Wright!\n",
       "Name: body, dtype: object"
      ]
     },
     "execution_count": 2,
     "metadata": {},
     "output_type": "execute_result"
    }
   ],
   "source": [
    "import sqlite3\n",
    "import pandas as pd\n",
    "\n",
    "sql_conn = sqlite3.connect('/Users/teddy/Documents/GitHub/Data/McKinneyBook/database.sqlite')\n",
    "\n",
    "comments = pd.read_sql(\"SELECT body FROM May2015 WHERE subreddit = 'sixers'\", sql_conn)\n",
    "\n",
    "comments = comments[\"body\"]\n",
    "\n",
    "print(comments.shape)\n",
    "comments.head(8)"
   ]
  },
  {
   "cell_type": "markdown",
   "id": "28575eee",
   "metadata": {},
   "source": [
    "The text in these comments is messy. We see everything from long paragraphs to emoticons. Luckily pandas has many functions that operate on series of strings.\n",
    "\n",
    "Pandas sting functions mirror built in sting functions and have the same name as their counterparts."
   ]
  },
  {
   "cell_type": "code",
   "execution_count": 3,
   "id": "88d2cf9f",
   "metadata": {},
   "outputs": [
    {
     "data": {
      "text/plain": [
       "'big homie nurkic! but seriously what the fuck. oh well, noel will just win dpoy for the next ten years straight. '"
      ]
     },
     "execution_count": 3,
     "metadata": {},
     "output_type": "execute_result"
    }
   ],
   "source": [
    "comments[0].lower() #Converts to lowercase"
   ]
  },
  {
   "cell_type": "code",
   "execution_count": 4,
   "id": "3d4c1d6b",
   "metadata": {},
   "outputs": [
    {
     "data": {
      "text/plain": [
       "0    113\n",
       "1    155\n",
       "2      8\n",
       "3    118\n",
       "4     42\n",
       "5    117\n",
       "6      9\n",
       "7     13\n",
       "Name: body, dtype: int64"
      ]
     },
     "execution_count": 4,
     "metadata": {},
     "output_type": "execute_result"
    }
   ],
   "source": [
    "comments.str.len().head(8)"
   ]
  },
  {
   "cell_type": "code",
   "execution_count": 5,
   "id": "93078b49",
   "metadata": {},
   "outputs": [
    {
     "data": {
      "text/plain": [
       "0    [BIG, HOMIE, NURKIC!, But, seriously, what, th...\n",
       "1    [Im, kind, of, pissed, off, right, now., , Obv...\n",
       "2                                          [Woops, :|]\n",
       "3    [/u/PussyAssNigga, makes, perfect, sense., I, ...\n",
       "4    [It, wouldve, been, Kris, Dunn, :-(\\n\\nIdk,, P...\n",
       "5    [I, want, George, Lucas, just, for, the, joke,...\n",
       "6                                          [[deleted]]\n",
       "7                                     [Delon, Wright!]\n",
       "Name: body, dtype: object"
      ]
     },
     "execution_count": 5,
     "metadata": {},
     "output_type": "execute_result"
    }
   ],
   "source": [
    "comments.str.split(\" \").head(8)"
   ]
  },
  {
   "cell_type": "code",
   "execution_count": 6,
   "id": "1fc6f67d",
   "metadata": {},
   "outputs": [
    {
     "data": {
      "text/plain": [
       "0    BIG HOMIE NURKIC! But seriously what the fuck....\n",
       "1    Im kind of pissed off right now.  Obviously th...\n",
       "2                                             Woops :|\n",
       "3    /u/PussyAssNigga makes perfect sense. I watche...\n",
       "4         It wouldve been Kris Dunn :-(\\n\\nIdk, Payne?\n",
       "5    I want George Lucas just for the joke possibil...\n",
       "6                                              deleted\n",
       "7                                        Delon Wright!\n",
       "Name: body, dtype: object"
      ]
     },
     "execution_count": 6,
     "metadata": {},
     "output_type": "execute_result"
    }
   ],
   "source": [
    "comments.str.strip(\"[ ]\").head(8)"
   ]
  },
  {
   "cell_type": "code",
   "execution_count": 7,
   "id": "411cc0ac",
   "metadata": {},
   "outputs": [
    {
     "data": {
      "text/plain": [
       "\"BIG HOMIE NURKIC! But seriously what the fuck. Oh well, Noel will just win DPOY for the next ten years straight. Im kind of pissed off right now.  Obviously the voters don't care enough about their position to pay attention.\\n\\n45 people left him off the ballot entirelyWoops :|/u/PussyAssNigga makes perfect sense. I watched the Sixers to watch Nerlens this season. Nobody who voted watched him.It wouldve been Kris Dunn :-(\\n\\nIdk, Payne?I want George Lucas just for the joke possibilities. But really \""
      ]
     },
     "execution_count": 7,
     "metadata": {},
     "output_type": "execute_result"
    }
   ],
   "source": [
    "comments.str.cat()[0:500]"
   ]
  },
  {
   "cell_type": "code",
   "execution_count": 8,
   "id": "7b412406",
   "metadata": {},
   "outputs": [
    {
     "data": {
      "text/plain": [
       "0    BIG HOMIE \n",
       "1    Im kind of\n",
       "2      Woops :|\n",
       "3    /u/PussyAs\n",
       "4    It wouldve\n",
       "5    I want Geo\n",
       "6     [deleted]\n",
       "7    Delon Wrig\n",
       "Name: body, dtype: object"
      ]
     },
     "execution_count": 8,
     "metadata": {},
     "output_type": "execute_result"
    }
   ],
   "source": [
    "comments.str.slice(0,10).head(8)"
   ]
  },
  {
   "cell_type": "code",
   "execution_count": 9,
   "id": "af9d55b5",
   "metadata": {},
   "outputs": [
    {
     "data": {
      "text/plain": [
       "0    BIG H Sixers Rule! NURKIC! But seriously what ...\n",
       "1    Im ki Sixers Rule!  pissed off right now.  Obv...\n",
       "2                                  Woops Sixers Rule! \n",
       "3    /u/Pu Sixers Rule! sNigga makes perfect sense....\n",
       "4    It wo Sixers Rule!  been Kris Dunn :-(\\n\\nIdk,...\n",
       "5    I wan Sixers Rule! rge Lucas just for the joke...\n",
       "6                                  [dele Sixers Rule! \n",
       "7                               Delon Sixers Rule! ht!\n",
       "Name: body, dtype: object"
      ]
     },
     "execution_count": 9,
     "metadata": {},
     "output_type": "execute_result"
    }
   ],
   "source": [
    "comments.str.slice_replace(5, 10, \" Sixers Rule! \").head(8)"
   ]
  },
  {
   "cell_type": "code",
   "execution_count": 10,
   "id": "f6555719",
   "metadata": {},
   "outputs": [
    {
     "data": {
      "text/plain": [
       "0    BIG HOMIE NURKIC! But seriously what the fuck....\n",
       "1    Im kind of pissed off right now.  Obviously th...\n",
       "2                                             Woops :|\n",
       "3    /u/PussyAssNigga makes perfect sense. I watche...\n",
       "4         It wouldve been Kris Dunn :-(\\n\\nIdk, Payne?\n",
       "5    I want George Lucas just YEAHH the joke possib...\n",
       "6                                            [deleted]\n",
       "7                                        Delon Wright!\n",
       "Name: body, dtype: object"
      ]
     },
     "execution_count": 10,
     "metadata": {},
     "output_type": "execute_result"
    }
   ],
   "source": [
    "comments.str.replace(\"for\", \"YEAHH\").head(8)"
   ]
  },
  {
   "cell_type": "markdown",
   "id": "2a0a941e",
   "metadata": {},
   "source": [
    "A common operation when working with text data is to test wether character strings contain a certain substring"
   ]
  },
  {
   "cell_type": "code",
   "execution_count": 30,
   "id": "835029e6",
   "metadata": {},
   "outputs": [
    {
     "data": {
      "text/plain": [
       "62      Actually I think Cousins would be the perfect ...\n",
       "65              I don't wanna waive goodbye to Joel, tho.\n",
       "87      Personally I would not mind if the celtics got...\n",
       "104     We cannot give up Embid before watching him co...\n",
       "1003    Mudiay/Wroten || Justise/Canaan || (Kawhi or J...\n",
       "1355    Lol we and the media created the Sixers-Wiggin...\n",
       "1401                  I guess this means they like Joel. \n",
       "1437    The article's poorly worded. The scrimmages an...\n",
       "1477    This thread has been linked to from another pl...\n",
       "1485                                      Be Joel Embiid.\n",
       "1493    How does Joel-Hans Embiid, Cameroon native, fo...\n",
       "1579    There are people out there who think we drafte...\n",
       "1629             We'll see, joel hasnt seen the floor yet\n",
       "1777    As awesome as furkan aldemir is I'd be happy w...\n",
       "1829    Yeah I still have an insane amount of trust in...\n",
       "1899    Not nervous at all. If Russell is the guy Hink...\n",
       "1960    We have a 3 in RoCo, 4/5 with Noel and Joel. T...\n",
       "1973    Sent to me by a kind person:\\n\\n&gt; Personnel...\n",
       "2037    \"If you give Dekker a really good player down ...\n",
       "2077    Yeah, idk what anyone would offer for Joel sin...\n",
       "2240    Sixers are almost certainly guaranteed Russell...\n",
       "2399    \"Way before our 4 game sweep final. We had the...\n",
       "2474    Obviously disappointing we didn't get any of t...\n",
       "2588    I know we get shit on sometimes for hanging on...\n",
       "2609    Well anyone who doesn't look at ppg would agre...\n",
       "Name: body, dtype: object"
      ]
     },
     "execution_count": 30,
     "metadata": {},
     "output_type": "execute_result"
    }
   ],
   "source": [
    "embid_talk = comments.str.lower().str.contains(\"joel|embid\")\n",
    "\n",
    "comments[embid_talk].head(25)\n"
   ]
  },
  {
   "cell_type": "code",
   "execution_count": 12,
   "id": "fd318bbf",
   "metadata": {},
   "outputs": [
    {
     "data": {
      "text/plain": [
       "0.013171434451533237"
      ]
     },
     "execution_count": 12,
     "metadata": {},
     "output_type": "execute_result"
    }
   ],
   "source": [
    "#calculate the ration of comments that mention Joel Embid\n",
    "\n",
    "len(comments[embid_talk])/len(comments)"
   ]
  },
  {
   "cell_type": "markdown",
   "id": "031f60c7",
   "metadata": {},
   "source": [
    "More String Methods in Pandas"
   ]
  },
  {
   "cell_type": "code",
   "execution_count": 13,
   "id": "5979b097",
   "metadata": {},
   "outputs": [
    {
     "data": {
      "text/plain": [
       "0    0\n",
       "1    0\n",
       "2    0\n",
       "3    1\n",
       "4    0\n",
       "5    0\n",
       "6    0\n",
       "7    0\n",
       "Name: body, dtype: int64"
      ]
     },
     "execution_count": 13,
     "metadata": {},
     "output_type": "execute_result"
    }
   ],
   "source": [
    "# Counts the occurence of each string\n",
    "comments.str.count(r'[Ss]ixers').head(8)"
   ]
  },
  {
   "cell_type": "code",
   "execution_count": 23,
   "id": "d1745b17",
   "metadata": {},
   "outputs": [
    {
     "data": {
      "text/plain": [
       "0          []\n",
       "1          []\n",
       "2          []\n",
       "3    [Sixers]\n",
       "4          []\n",
       "5          []\n",
       "6          []\n",
       "7          []\n",
       "Name: body, dtype: object"
      ]
     },
     "execution_count": 23,
     "metadata": {},
     "output_type": "execute_result"
    }
   ],
   "source": [
    "# gets each matched substring and return the result as a list\n",
    "\n",
    "comments.str.findall(r'[Ss]ixers').head(8)\n"
   ]
  },
  {
   "cell_type": "markdown",
   "id": "d31935f9",
   "metadata": {},
   "source": [
    "Regular Expressions\n",
    "\n",
    "A regular expression or regex is a  sequence  of characters and special meta characters used to match a set of character strings. Regular expressions allow you to be more expressive with string matching."
   ]
  },
  {
   "cell_type": "code",
   "execution_count": 15,
   "id": "4f9f684d",
   "metadata": {},
   "outputs": [
    {
     "data": {
      "text/plain": [
       "0     True\n",
       "1     True\n",
       "2     True\n",
       "3     True\n",
       "4    False\n",
       "dtype: bool"
      ]
     },
     "execution_count": 15,
     "metadata": {},
     "output_type": "execute_result"
    }
   ],
   "source": [
    "my_series = pd.Series(['will','bill','Till','still','gull'])\n",
    "\n",
    "my_series.str.contains('.ill') # Match any substring ending in ill"
   ]
  },
  {
   "cell_type": "code",
   "execution_count": 16,
   "id": "17d66a1b",
   "metadata": {},
   "outputs": [
    {
     "data": {
      "text/plain": [
       "0    False\n",
       "1    False\n",
       "2     True\n",
       "3     True\n",
       "4    False\n",
       "dtype: bool"
      ]
     },
     "execution_count": 16,
     "metadata": {},
     "output_type": "execute_result"
    }
   ],
   "source": [
    "# [] Square brackets Specify a set of characters to match\n",
    "\n",
    "my_series.str.contains(\"[Tt]ill\")"
   ]
  },
  {
   "cell_type": "code",
   "execution_count": 17,
   "id": "5d32c3ac",
   "metadata": {},
   "outputs": [
    {
     "name": "stderr",
     "output_type": "stream",
     "text": [
      "<>:1: SyntaxWarning: invalid escape sequence '\\d'\n",
      "<>:1: SyntaxWarning: invalid escape sequence '\\d'\n",
      "/var/folders/20/24nsj1xx7y52k8m90_h_2r5h0000gp/T/ipykernel_7179/1093290983.py:1: SyntaxWarning: invalid escape sequence '\\d'\n",
      "  \"\"\"\n",
      "/var/folders/20/24nsj1xx7y52k8m90_h_2r5h0000gp/T/ipykernel_7179/1093290983.py:24: UserWarning: This pattern is interpreted as a regular expression, and has match groups. To actually get the groups, use str.extract.\n",
      "  ex_str1.str.contains(\"^(He|he)\") # Matches He or he at the start of a string\n"
     ]
    },
    {
     "data": {
      "text/plain": [
       "0    False\n",
       "1     True\n",
       "2     True\n",
       "dtype: bool"
      ]
     },
     "execution_count": 17,
     "metadata": {},
     "output_type": "execute_result"
    }
   ],
   "source": [
    "\"\"\"\n",
    "Regular expressions include several special character sets that allow to quickly specify certain common character types. They include:\n",
    "[a-z] - match any lowercase letter \n",
    "[A-Z] - match any uppercase letter \n",
    "[0-9] - match any digit \n",
    "[a-zA-Z0-9] - match any letter or digit\n",
    "Adding the \"^\" symbol inside the square brackets matches any characters NOT in the set:\n",
    "[^a-z] - match any character that is not a lowercase letter \n",
    "[^A-Z] - match any character that is not a uppercase letter \n",
    "[^0-9] - match any character that is not a digit \n",
    "[^a-zA-Z0-9] - match any character that is not a letter or digit\n",
    "Python regular expressions also include a shorthand for specifying common sequences:\n",
    "\\d - match any digit \n",
    "\\D - match any non digit \n",
    "\\w - match a word character\n",
    "\\W - match a non-word character \n",
    "\\s - match whitespace (spaces, tabs, newlines, etc.) \n",
    "\\S - match non-whitespace\n",
    "\"^\" - outside of square brackets, the caret symbol searches for matches at the beginning of a string:\n",
    "\"\"\"\n",
    "\n",
    "ex_str1 = pd.Series([\"Where did he go\", \"He went to the mall\", \"he is good\"])\n",
    "\n",
    "ex_str1.str.contains(\"^(He|he)\") # Matches He or he at the start of a string"
   ]
  },
  {
   "cell_type": "code",
   "execution_count": 18,
   "id": "d64ab807",
   "metadata": {},
   "outputs": [
    {
     "data": {
      "text/plain": [
       "0     True\n",
       "1    False\n",
       "2    False\n",
       "3     True\n",
       "4     True\n",
       "dtype: bool"
      ]
     },
     "execution_count": 18,
     "metadata": {},
     "output_type": "execute_result"
    }
   ],
   "source": [
    "\"\"\"\n",
    "\"( )\" - parentheses in regular expressions are used for grouping and to enforce the proper order of operations just like they are in math and logical expressions. In the examples above, the parentheses let us group the or expressions so that the \"^\" and \"$\" symbols operate on the entire or statement.\n",
    "\"*\" - an asterisk matches zero or more copies of the preceding character\n",
    "\"?\" - a question mark matches zero or 1 copy of the preceding character\n",
    "\"+\" - a plus matches 1 more copies of the preceding character\n",
    "\"\"\"\n",
    "\n",
    "\n",
    "ex_str2 = pd.Series([\"abdominal\",\"b\",\"aa\",\"abbcc\",\"aba\"])\n",
    "\n",
    "# Match 0 or more a's, a single b, then 1 or characters\n",
    "ex_str2.str.contains(\"a*b.+\") "
   ]
  },
  {
   "cell_type": "code",
   "execution_count": 19,
   "id": "e3d368ec",
   "metadata": {},
   "outputs": [
    {
     "data": {
      "text/plain": [
       "0    False\n",
       "1    False\n",
       "2     True\n",
       "3    False\n",
       "4     True\n",
       "dtype: bool"
      ]
     },
     "execution_count": 19,
     "metadata": {},
     "output_type": "execute_result"
    }
   ],
   "source": [
    "# Match 1 or more a's, an optional b, then 1 or a's\n",
    "ex_str2.str.contains(\"a+b?a+\")"
   ]
  },
  {
   "cell_type": "code",
   "execution_count": 20,
   "id": "1cc05a09",
   "metadata": {},
   "outputs": [
    {
     "data": {
      "text/plain": [
       "0    False\n",
       "1    False\n",
       "2    False\n",
       "3     True\n",
       "dtype: bool"
      ]
     },
     "execution_count": 20,
     "metadata": {},
     "output_type": "execute_result"
    }
   ],
   "source": [
    "\"\"\"\n",
    "\"{ }\" - curly braces match a preceding character for a specified number of repetitions:\n",
    "\"{m}\" - the preceding element is matched m times\n",
    "\"{m,}\" - the preceding element is matched m times or more\n",
    "\"{m,n}\" - the preceding element is matched between m and n times\n",
    "\"\"\"\n",
    "\n",
    "ex_str3 = pd.Series([\"aabcbcb\",\"abbb\",\"abbaab\",\"aabb\"])\n",
    "\n",
    "ex_str3.str.contains(\"a{2}b{2,}\")    # Match 2 a's then 2 or more b's"
   ]
  },
  {
   "cell_type": "code",
   "execution_count": 21,
   "id": "3d7d9086",
   "metadata": {},
   "outputs": [
    {
     "name": "stderr",
     "output_type": "stream",
     "text": [
      "<>:1: SyntaxWarning: invalid escape sequence '\\M'\n",
      "<>:3: SyntaxWarning: invalid escape sequence '\\.'\n",
      "<>:1: SyntaxWarning: invalid escape sequence '\\M'\n",
      "<>:3: SyntaxWarning: invalid escape sequence '\\.'\n",
      "/var/folders/20/24nsj1xx7y52k8m90_h_2r5h0000gp/T/ipykernel_7179/3593550697.py:1: SyntaxWarning: invalid escape sequence '\\M'\n",
      "  ex_str4 = pd.Series([\"Mr. Ed\",\"Dr. Mario\",\"Miss\\Mrs Granger.\"])\n",
      "/var/folders/20/24nsj1xx7y52k8m90_h_2r5h0000gp/T/ipykernel_7179/3593550697.py:3: SyntaxWarning: invalid escape sequence '\\.'\n",
      "  ex_str4.str.contains(\"\\. \") # Match a single period and then a space\n"
     ]
    },
    {
     "data": {
      "text/plain": [
       "0     True\n",
       "1     True\n",
       "2    False\n",
       "dtype: bool"
      ]
     },
     "execution_count": 21,
     "metadata": {},
     "output_type": "execute_result"
    }
   ],
   "source": [
    "ex_str4 = pd.Series([\"Mr. Ed\",\"Dr. Mario\",\"Miss\\Mrs Granger.\"])\n",
    "\n",
    "ex_str4.str.contains(\"\\. \") # Match a single period and then a space"
   ]
  },
  {
   "cell_type": "markdown",
   "id": "3b73cdec",
   "metadata": {},
   "source": [
    "If you want to match the escape character backslash itself, you either have to use four backslashes \"\\\" or encode the string as a raw string of the form r\"mystring\" and then use double backslashes. Raw strings are an alternate string representation in Python that simplify some oddities in performing regular expressions on normal strings. Read more about them here."
   ]
  },
  {
   "cell_type": "code",
   "execution_count": 22,
   "id": "ec62c1f8",
   "metadata": {},
   "outputs": [
    {
     "data": {
      "text/plain": [
       "0    False\n",
       "1    False\n",
       "2     True\n",
       "dtype: bool"
      ]
     },
     "execution_count": 22,
     "metadata": {},
     "output_type": "execute_result"
    }
   ],
   "source": [
    "ex_str4.str.contains(r\"\\\\\") # Match strings containing a backslash"
   ]
  },
  {
   "cell_type": "markdown",
   "id": "9f75d000",
   "metadata": {},
   "source": [
    "Getting posts with web links"
   ]
  },
  {
   "cell_type": "code",
   "execution_count": 24,
   "id": "c62c39fc",
   "metadata": {},
   "outputs": [
    {
     "name": "stdout",
     "output_type": "stream",
     "text": [
      "178\n"
     ]
    },
    {
     "data": {
      "text/plain": [
       "21     If you lower it to 99 of each you add *one pla...\n",
       "135                 [No](http://i.imgur.com/1nlLyzj.gif)\n",
       "200    &gt; They're young, cheap and on controllable ...\n",
       "310    [For the Lazy](http://bleacherreport.com/artic...\n",
       "457    [Mood:](http://ballerball.com/wp-content/uploa...\n",
       "Name: body, dtype: object"
      ]
     },
     "execution_count": 24,
     "metadata": {},
     "output_type": "execute_result"
    }
   ],
   "source": [
    "web_links = comments.str.contains(r'https?:')\n",
    "posts_with_links = comments[web_links]\n",
    "print(len(posts_with_links))\n",
    "posts_with_links.head(5)"
   ]
  },
  {
   "cell_type": "code",
   "execution_count": 26,
   "id": "b24d1ac2",
   "metadata": {},
   "outputs": [
    {
     "data": {
      "text/plain": [
       "21                                [http://goo.gl/XZPyNl]\n",
       "135                     [http://i.imgur.com/1nlLyzj.gif]\n",
       "200    [http://www.basketball-reference.com/contracts...\n",
       "310    [http://bleacherreport.com/articles/2453188-pr...\n",
       "457    [http://ballerball.com/wp-content/uploads/2014...\n",
       "495    [https://twitter.com/Sixers/status/59605738663...\n",
       "543         [http://www.reddit.com/user/ragingblackmage]\n",
       "586    [http://spikeeskin.com/2015/04/09/rights-to-ri...\n",
       "593            [http://www.cbafaq.com/salarycap.htm#Q51]\n",
       "594    [http://www.reddit.com/r/baseball/comments/2qq...\n",
       "Name: body, dtype: object"
      ]
     },
     "execution_count": 26,
     "metadata": {},
     "output_type": "execute_result"
    }
   ],
   "source": [
    "only_links = posts_with_links.str.findall(r'https?:[^\\n\\)}]+')\n",
    "only_links.head(10)"
   ]
  }
 ],
 "metadata": {
  "kernelspec": {
   "display_name": "base",
   "language": "python",
   "name": "python3"
  },
  "language_info": {
   "codemirror_mode": {
    "name": "ipython",
    "version": 3
   },
   "file_extension": ".py",
   "mimetype": "text/x-python",
   "name": "python",
   "nbconvert_exporter": "python",
   "pygments_lexer": "ipython3",
   "version": "3.12.4"
  }
 },
 "nbformat": 4,
 "nbformat_minor": 5
}
