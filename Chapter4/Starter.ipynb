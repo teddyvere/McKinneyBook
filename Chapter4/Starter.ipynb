{
 "cells": [
  {
   "cell_type": "markdown",
   "id": "74a170e5",
   "metadata": {},
   "source": [
    "Numpy arrays are simmilar to lists in Python, but they are more efficient for numerical operations. They can only hold  one data type and they are stored in contiguous memory locations."
   ]
  },
  {
   "cell_type": "code",
   "execution_count": 219,
   "id": "bf273da0",
   "metadata": {
    "vscode": {
     "languageId": "python"
    }
   },
   "outputs": [],
   "source": [
    "import numpy as np"
   ]
  },
  {
   "cell_type": "code",
   "execution_count": 220,
   "id": "a13c4a75",
   "metadata": {
    "vscode": {
     "languageId": "python"
    }
   },
   "outputs": [
    {
     "data": {
      "text/plain": [
       "numpy.ndarray"
      ]
     },
     "execution_count": 220,
     "metadata": {},
     "output_type": "execute_result"
    }
   ],
   "source": [
    "my_list = [1, 2, 3, 4, 5]\n",
    "\n",
    "my_array = np.array(my_list)\n",
    "\n",
    "type(my_array)"
   ]
  },
  {
   "cell_type": "markdown",
   "id": "ed85d4c0",
   "metadata": {},
   "source": [
    "This is a 1-dimensional array.\n",
    "\n",
    "For a 2-dimensional array, we use a list of lists:"
   ]
  },
  {
   "cell_type": "code",
   "execution_count": 221,
   "id": "b5bd60ad",
   "metadata": {
    "vscode": {
     "languageId": "python"
    }
   },
   "outputs": [
    {
     "name": "stdout",
     "output_type": "stream",
     "text": [
      "[[ 1  2  3  4  5]\n",
      " [ 6  7  8  9 10]]\n"
     ]
    }
   ],
   "source": [
    "second_list = [6, 7, 8, 9, 10]\n",
    "two_d_array = np.array([my_list, second_list])\n",
    "print(two_d_array)"
   ]
  },
  {
   "cell_type": "markdown",
   "id": "b2190cb5",
   "metadata": {},
   "source": [
    "An ndarray is defined by the number of dimensions (ndim) and the shape (size of each dimension).\n"
   ]
  },
  {
   "cell_type": "code",
   "execution_count": 222,
   "id": "ea85829f",
   "metadata": {
    "vscode": {
     "languageId": "python"
    }
   },
   "outputs": [
    {
     "data": {
      "text/plain": [
       "(2, 5)"
      ]
     },
     "execution_count": 222,
     "metadata": {},
     "output_type": "execute_result"
    }
   ],
   "source": [
    "two_d_array.shape"
   ]
  },
  {
   "cell_type": "markdown",
   "id": "d78d7535",
   "metadata": {},
   "source": [
    "You can check the total number of elements in an ndarray using the size attribute:"
   ]
  },
  {
   "cell_type": "code",
   "execution_count": 223,
   "id": "946428b0",
   "metadata": {
    "vscode": {
     "languageId": "python"
    }
   },
   "outputs": [
    {
     "data": {
      "text/plain": [
       "10"
      ]
     },
     "execution_count": 223,
     "metadata": {},
     "output_type": "execute_result"
    }
   ],
   "source": [
    "two_d_array.size"
   ]
  },
  {
   "cell_type": "markdown",
   "id": "f72bc912",
   "metadata": {},
   "source": [
    "You can check the type of data held in the array with the .dtype attribute:"
   ]
  },
  {
   "cell_type": "code",
   "execution_count": 224,
   "id": "7e8d1870",
   "metadata": {
    "vscode": {
     "languageId": "python"
    }
   },
   "outputs": [
    {
     "data": {
      "text/plain": [
       "dtype('int64')"
      ]
     },
     "execution_count": 224,
     "metadata": {},
     "output_type": "execute_result"
    }
   ],
   "source": [
    "two_d_array.dtype"
   ]
  },
  {
   "cell_type": "markdown",
   "id": "89f377c8",
   "metadata": {},
   "source": [
    "Numpy has a variety of functions to create arrays. Here are a few examples:"
   ]
  },
  {
   "cell_type": "code",
   "execution_count": 225,
   "id": "bc7ea740",
   "metadata": {
    "vscode": {
     "languageId": "python"
    }
   },
   "outputs": [
    {
     "data": {
      "text/plain": [
       "array([[1., 0., 0.],\n",
       "       [0., 1., 0.],\n",
       "       [0., 0., 1.]])"
      ]
     },
     "execution_count": 225,
     "metadata": {},
     "output_type": "execute_result"
    }
   ],
   "source": [
    "#np.identity()  creates a square 2d array with ones on the diagonal\n",
    "\n",
    "np.identity(n = 3)  # Size of the array\n",
    "\n"
   ]
  },
  {
   "cell_type": "code",
   "execution_count": 226,
   "id": "424e4f93",
   "metadata": {
    "vscode": {
     "languageId": "python"
    }
   },
   "outputs": [
    {
     "data": {
      "text/plain": [
       "array([[1., 1., 1.],\n",
       "       [1., 1., 1.],\n",
       "       [1., 1., 1.]])"
      ]
     },
     "execution_count": 226,
     "metadata": {},
     "output_type": "execute_result"
    }
   ],
   "source": [
    "#np.ones() creates an array filled with ones\n",
    "\n",
    "np.ones(shape=(3, 3))  # Size of the array"
   ]
  },
  {
   "cell_type": "code",
   "execution_count": 227,
   "id": "3d929d89",
   "metadata": {
    "vscode": {
     "languageId": "python"
    }
   },
   "outputs": [
    {
     "data": {
      "text/plain": [
       "array([[0., 0., 0.],\n",
       "       [0., 0., 0.],\n",
       "       [0., 0., 0.]])"
      ]
     },
     "execution_count": 227,
     "metadata": {},
     "output_type": "execute_result"
    }
   ],
   "source": [
    "#np.zeros() creates an array filled with zeros\n",
    "\n",
    "np.zeros(shape=(3, 3))  # Size of the array"
   ]
  },
  {
   "cell_type": "markdown",
   "id": "a6d26513",
   "metadata": {},
   "source": [
    "Numpy ndarrays offer numbed indexing and slicing syntax that mirrors syntax for lists.\n"
   ]
  },
  {
   "cell_type": "code",
   "execution_count": 228,
   "id": "ca02d4b7",
   "metadata": {
    "vscode": {
     "languageId": "python"
    }
   },
   "outputs": [
    {
     "data": {
      "text/plain": [
       "4"
      ]
     },
     "execution_count": 228,
     "metadata": {},
     "output_type": "execute_result"
    }
   ],
   "source": [
    "one_d_array = np.array([1, 2, 3, 4, 5])\n",
    "\n",
    "one_d_array[3] # Get item at index 3"
   ]
  },
  {
   "cell_type": "code",
   "execution_count": 229,
   "id": "c1b265b2",
   "metadata": {
    "vscode": {
     "languageId": "python"
    }
   },
   "outputs": [
    {
     "data": {
      "text/plain": [
       "array([5, 4, 3, 2, 1])"
      ]
     },
     "execution_count": 229,
     "metadata": {},
     "output_type": "execute_result"
    }
   ],
   "source": [
    "one_d_array[::-1] # Slicing the array in reverse order"
   ]
  },
  {
   "cell_type": "code",
   "execution_count": 230,
   "id": "89b56860",
   "metadata": {
    "vscode": {
     "languageId": "python"
    }
   },
   "outputs": [
    {
     "name": "stdout",
     "output_type": "stream",
     "text": [
      "[[ 1  2  3  4  5]\n",
      " [ 7  8  9 10 11]\n",
      " [13 14 15 16 17]]\n"
     ]
    }
   ],
   "source": [
    "# Create new 2d array  \n",
    "two_d_array = np.array([one_d_array, one_d_array + 6, one_d_array + 12])\n",
    "\n",
    "print(two_d_array)"
   ]
  },
  {
   "cell_type": "code",
   "execution_count": 231,
   "id": "bee3f66f",
   "metadata": {
    "vscode": {
     "languageId": "python"
    }
   },
   "outputs": [
    {
     "data": {
      "text/plain": [
       "16"
      ]
     },
     "execution_count": 231,
     "metadata": {},
     "output_type": "execute_result"
    }
   ],
   "source": [
    "# Get the element at row 2, column 3\n",
    "\n",
    "two_d_array[2, 3]"
   ]
  },
  {
   "cell_type": "code",
   "execution_count": 234,
   "id": "8b415c61",
   "metadata": {
    "vscode": {
     "languageId": "python"
    }
   },
   "outputs": [
    {
     "data": {
      "text/plain": [
       "array([[11],\n",
       "       [17]])"
      ]
     },
     "execution_count": 234,
     "metadata": {},
     "output_type": "execute_result"
    }
   ],
   "source": [
    "# Slice elements starting at row 2, and column 5\n",
    "\n",
    "two_d_array[1:, 4:]"
   ]
  },
  {
   "cell_type": "code",
   "execution_count": 235,
   "id": "bdf56109",
   "metadata": {
    "vscode": {
     "languageId": "python"
    }
   },
   "outputs": [
    {
     "data": {
      "text/plain": [
       "array([[17, 16, 15, 14, 13],\n",
       "       [11, 10,  9,  8,  7],\n",
       "       [ 5,  4,  3,  2,  1]])"
      ]
     },
     "execution_count": 235,
     "metadata": {},
     "output_type": "execute_result"
    }
   ],
   "source": [
    "# Reverse both dimensions of the array\n",
    "\n",
    "two_d_array[::-1, ::-1]"
   ]
  },
  {
   "cell_type": "markdown",
   "id": "d8fc3b8b",
   "metadata": {},
   "source": [
    "Numpy has a variety of built in functions to manipulate arrays. Here are a few examples:"
   ]
  },
  {
   "cell_type": "code",
   "execution_count": 237,
   "id": "633020b9",
   "metadata": {
    "vscode": {
     "languageId": "python"
    }
   },
   "outputs": [
    {
     "data": {
      "text/plain": [
       "array([[ 1,  2,  3],\n",
       "       [ 4,  5,  7],\n",
       "       [ 8,  9, 10],\n",
       "       [11, 13, 14],\n",
       "       [15, 16, 17]])"
      ]
     },
     "execution_count": 237,
     "metadata": {},
     "output_type": "execute_result"
    }
   ],
   "source": [
    "np.reshape(a=two_d_array, newshape=(5,3)) #reshape the array into a 5x3 matrix"
   ]
  },
  {
   "cell_type": "code",
   "execution_count": 238,
   "id": "e71f7219",
   "metadata": {
    "vscode": {
     "languageId": "python"
    }
   },
   "outputs": [
    {
     "data": {
      "text/plain": [
       "array([ 1,  2,  3,  4,  5,  7,  8,  9, 10, 11, 13, 14, 15, 16, 17])"
      ]
     },
     "execution_count": 238,
     "metadata": {},
     "output_type": "execute_result"
    }
   ],
   "source": [
    "np.ravel(a=two_d_array, order='C') # flatten the array using C style (by row major order)"
   ]
  },
  {
   "cell_type": "code",
   "execution_count": 239,
   "id": "ed70b7ce",
   "metadata": {
    "vscode": {
     "languageId": "python"
    }
   },
   "outputs": [
    {
     "data": {
      "text/plain": [
       "array([ 1,  7, 13,  2,  8, 14,  3,  9, 15,  4, 10, 16,  5, 11, 17])"
      ]
     },
     "execution_count": 239,
     "metadata": {},
     "output_type": "execute_result"
    }
   ],
   "source": [
    "np.ravel(a=two_d_array, order='F') # flatten the array using Fortran style (by column major order)  "
   ]
  },
  {
   "cell_type": "code",
   "execution_count": 240,
   "id": "9bcd1c23",
   "metadata": {
    "vscode": {
     "languageId": "python"
    }
   },
   "outputs": [
    {
     "data": {
      "text/plain": [
       "array([ 1,  2,  3,  4,  5,  7,  8,  9, 10, 11, 13, 14, 15, 16, 17])"
      ]
     },
     "execution_count": 240,
     "metadata": {},
     "output_type": "execute_result"
    }
   ],
   "source": [
    "two_d_array.flatten() # flatten the array using C style (by row major order)"
   ]
  },
  {
   "cell_type": "code",
   "execution_count": 242,
   "id": "5ace0997",
   "metadata": {
    "vscode": {
     "languageId": "python"
    }
   },
   "outputs": [
    {
     "data": {
      "text/plain": [
       "array([[ 1,  7, 13],\n",
       "       [ 2,  8, 14],\n",
       "       [ 3,  9, 15],\n",
       "       [ 4, 10, 16],\n",
       "       [ 5, 11, 17]])"
      ]
     },
     "execution_count": 242,
     "metadata": {},
     "output_type": "execute_result"
    }
   ],
   "source": [
    "two_d_array.T # transpose the array"
   ]
  },
  {
   "cell_type": "code",
   "execution_count": 243,
   "id": "ca0024e9",
   "metadata": {
    "vscode": {
     "languageId": "python"
    }
   },
   "outputs": [
    {
     "data": {
      "text/plain": [
       "array([[13, 14, 15, 16, 17],\n",
       "       [ 7,  8,  9, 10, 11],\n",
       "       [ 1,  2,  3,  4,  5]])"
      ]
     },
     "execution_count": 243,
     "metadata": {},
     "output_type": "execute_result"
    }
   ],
   "source": [
    "np.flipud(two_d_array) # flip the array along the first axis"
   ]
  },
  {
   "cell_type": "code",
   "execution_count": 244,
   "id": "a2b707d7",
   "metadata": {
    "vscode": {
     "languageId": "python"
    }
   },
   "outputs": [
    {
     "data": {
      "text/plain": [
       "array([[ 5,  4,  3,  2,  1],\n",
       "       [11, 10,  9,  8,  7],\n",
       "       [17, 16, 15, 14, 13]])"
      ]
     },
     "execution_count": 244,
     "metadata": {},
     "output_type": "execute_result"
    }
   ],
   "source": [
    "np.fliplr(two_d_array) # flip the array along the second axis"
   ]
  },
  {
   "cell_type": "code",
   "execution_count": null,
   "id": "23497eb2",
   "metadata": {
    "vscode": {
     "languageId": "python"
    }
   },
   "outputs": [],
   "source": [
    "np.rot90(two_d_array, k=1) # rotate the array 90 degrees counter"
   ]
  },
  {
   "cell_type": "code",
   "execution_count": 246,
   "id": "4f7fd9ec",
   "metadata": {
    "vscode": {
     "languageId": "python"
    }
   },
   "outputs": [
    {
     "data": {
      "text/plain": [
       "array([[ 4,  5,  1,  2,  3],\n",
       "       [10, 11,  7,  8,  9],\n",
       "       [16, 17, 13, 14, 15]])"
      ]
     },
     "execution_count": 246,
     "metadata": {},
     "output_type": "execute_result"
    }
   ],
   "source": [
    "np.roll(a= two_d_array, shift = 2, axis = 1) # roll the array along the second axis by 2 positions"
   ]
  },
  {
   "cell_type": "code",
   "execution_count": 252,
   "id": "bf2752a3",
   "metadata": {
    "vscode": {
     "languageId": "python"
    }
   },
   "outputs": [
    {
     "data": {
      "text/plain": [
       "array([[ 1,  2,  3,  4,  5, 10, 20, 30],\n",
       "       [ 7,  8,  9, 10, 11, 40, 50, 60],\n",
       "       [13, 14, 15, 16, 17, 70, 80, 90]])"
      ]
     },
     "execution_count": 252,
     "metadata": {},
     "output_type": "execute_result"
    }
   ],
   "source": [
    "array_to_join = np.array([[10,20,30],[40,50,60],[70,80,90]])\n",
    "\n",
    "np.concatenate((two_d_array, array_to_join), axis=1) # concatenate the"
   ]
  },
  {
   "cell_type": "markdown",
   "id": "6325db5c",
   "metadata": {},
   "source": [
    "ndarrays true power lies in their ability to perform complex mathematical operations on entire arrays at once."
   ]
  },
  {
   "cell_type": "code",
   "execution_count": 253,
   "id": "16d5e771",
   "metadata": {
    "vscode": {
     "languageId": "python"
    }
   },
   "outputs": [
    {
     "data": {
      "text/plain": [
       "array([[101, 102, 103, 104, 105],\n",
       "       [107, 108, 109, 110, 111],\n",
       "       [113, 114, 115, 116, 117]])"
      ]
     },
     "execution_count": 253,
     "metadata": {},
     "output_type": "execute_result"
    }
   ],
   "source": [
    "two_d_array + 100 #Add 100 to each element in the array"
   ]
  },
  {
   "cell_type": "code",
   "execution_count": 254,
   "id": "a348a6f8",
   "metadata": {
    "vscode": {
     "languageId": "python"
    }
   },
   "outputs": [
    {
     "data": {
      "text/plain": [
       "array([[  1,   4,   9,  16,  25],\n",
       "       [ 49,  64,  81, 100, 121],\n",
       "       [169, 196, 225, 256, 289]])"
      ]
     },
     "execution_count": 254,
     "metadata": {},
     "output_type": "execute_result"
    }
   ],
   "source": [
    "two_d_array **2 # Square each element in the array"
   ]
  },
  {
   "cell_type": "code",
   "execution_count": 255,
   "id": "da387553",
   "metadata": {
    "vscode": {
     "languageId": "python"
    }
   },
   "outputs": [
    {
     "data": {
      "text/plain": [
       "array([[1, 0, 1, 0, 1],\n",
       "       [1, 0, 1, 0, 1],\n",
       "       [1, 0, 1, 0, 1]])"
      ]
     },
     "execution_count": 255,
     "metadata": {},
     "output_type": "execute_result"
    }
   ],
   "source": [
    "two_d_array % 2 # Modulo operation (remainder of division) for each element in the array"
   ]
  },
  {
   "cell_type": "markdown",
   "id": "a5e13def",
   "metadata": {},
   "source": [
    "You can also do math operations on two arrays with the same shape."
   ]
  },
  {
   "cell_type": "code",
   "execution_count": 256,
   "id": "3dee1a16",
   "metadata": {
    "vscode": {
     "languageId": "python"
    }
   },
   "outputs": [
    {
     "data": {
      "text/plain": [
       "array([[2, 4],\n",
       "       [6, 8]])"
      ]
     },
     "execution_count": 256,
     "metadata": {},
     "output_type": "execute_result"
    }
   ],
   "source": [
    "small_array1 = np.array([[1, 2], [3, 4]])\n",
    "\n",
    "small_array1 + small_array1"
   ]
  },
  {
   "cell_type": "markdown",
   "id": "ace1242c",
   "metadata": {},
   "source": [
    "Numpy also has a variety of named math functions that you can use on arrays. Here are a few examples:"
   ]
  },
  {
   "cell_type": "code",
   "execution_count": null,
   "id": "bb772e39",
   "metadata": {
    "vscode": {
     "languageId": "python"
    }
   },
   "outputs": [],
   "source": [
    "np.mean(two_d_array) # Calculate the mean of all elements in the array"
   ]
  },
  {
   "cell_type": "code",
   "execution_count": null,
   "id": "cc562aef",
   "metadata": {
    "vscode": {
     "languageId": "python"
    }
   },
   "outputs": [],
   "source": [
    "np.std(two_d_array) # Calculate the standard deviation of all elements in the array"
   ]
  },
  {
   "cell_type": "code",
   "execution_count": 265,
   "id": "846f13b3",
   "metadata": {
    "vscode": {
     "languageId": "python"
    }
   },
   "outputs": [
    {
     "data": {
      "text/plain": [
       "135"
      ]
     },
     "execution_count": 265,
     "metadata": {},
     "output_type": "execute_result"
    }
   ],
   "source": [
    "np.sum(two_d_array) # Calculate the sum of all elements in the array"
   ]
  },
  {
   "cell_type": "code",
   "execution_count": 266,
   "id": "55459390",
   "metadata": {
    "vscode": {
     "languageId": "python"
    }
   },
   "outputs": [
    {
     "data": {
      "text/plain": [
       "array([[0.        , 0.69314718, 1.09861229, 1.38629436, 1.60943791],\n",
       "       [1.94591015, 2.07944154, 2.19722458, 2.30258509, 2.39789527],\n",
       "       [2.56494936, 2.63905733, 2.7080502 , 2.77258872, 2.83321334]])"
      ]
     },
     "execution_count": 266,
     "metadata": {},
     "output_type": "execute_result"
    }
   ],
   "source": [
    "np.log(two_d_array) # Calculate the natural logarithm of all elements in the array"
   ]
  },
  {
   "cell_type": "code",
   "execution_count": 267,
   "id": "946bec1c",
   "metadata": {
    "vscode": {
     "languageId": "python"
    }
   },
   "outputs": [
    {
     "data": {
      "text/plain": [
       "145"
      ]
     },
     "execution_count": 267,
     "metadata": {},
     "output_type": "execute_result"
    }
   ],
   "source": [
    "np.dot(two_d_array[0,0:], two_d_array[1,0:]) # Calculate the dot product of two vectors"
   ]
  },
  {
   "cell_type": "markdown",
   "id": "270324fd",
   "metadata": {},
   "source": [
    "NUmpy arrays provide a high-performance multidimensional array object, and tools for working with these arrays"
   ]
  }
 ],
 "metadata": {
  "kernelspec": {
   "display_name": "",
   "name": ""
  },
  "language_info": {
   "name": ""
  }
 },
 "nbformat": 4,
 "nbformat_minor": 5
}
