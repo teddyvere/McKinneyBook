{
 "cells": [
  {
   "cell_type": "markdown",
   "id": "28b30711",
   "metadata": {},
   "source": [
    "# Working with text data\n",
    "\n",
    "Lets work with a sql library that contains reddit user comments from 2015. Lots look in the minnesota timberwolves subreddit."
   ]
  },
  {
   "cell_type": "code",
   "execution_count": 5,
   "id": "220890b3-5a99-4892-a955-4eb2f339ae34",
   "metadata": {},
   "outputs": [
    {
     "name": "stdout",
     "output_type": "stream",
     "text": [
      "(4166,)\n"
     ]
    },
    {
     "data": {
      "text/plain": [
       "0    Strongly encouraging sign for us.  The T-Wolve...\n",
       "1    [My reaction.](http://4.bp.blogspot.com/-3ySob...\n",
       "2                     http://imgur.com/gallery/Zch2AWw\n",
       "3    Wolves have more talent than they ever had rig...\n",
       "4    Nah. Wigg is on the level of KG but where's ou...\n",
       "5           2004 was a pretty damn talented team dude.\n",
       "6                                                  :')\n",
       "7                                              *swoon*\n",
       "Name: body, dtype: object"
      ]
     },
     "execution_count": 5,
     "metadata": {},
     "output_type": "execute_result"
    }
   ],
   "source": [
    "import sqlite3\n",
    "import pandas as pd\n",
    "\n",
    "sql_conn = sqlite3.connect('/Users/teddy/Documents/GitHub/Data/McKinneyBook/database.sqlite')\n",
    "\n",
    "comments = pd.read_sql(\"SELECT body FROM May2015 WHERE subreddit = 'timberwolves'\", sql_conn)\n",
    "\n",
    "comments = comments[\"body\"]\n",
    "\n",
    "print(comments.shape)\n",
    "comments.head(8)"
   ]
  },
  {
   "cell_type": "code",
   "execution_count": 4,
   "id": "88d2cf9f",
   "metadata": {},
   "outputs": [
    {
     "data": {
      "text/plain": [
       "<sqlite3.Connection at 0x13a67cb80>"
      ]
     },
     "execution_count": 4,
     "metadata": {},
     "output_type": "execute_result"
    }
   ],
   "source": []
  }
 ],
 "metadata": {
  "kernelspec": {
   "display_name": "base",
   "language": "python",
   "name": "python3"
  },
  "language_info": {
   "codemirror_mode": {
    "name": "ipython",
    "version": 3
   },
   "file_extension": ".py",
   "mimetype": "text/x-python",
   "name": "python",
   "nbconvert_exporter": "python",
   "pygments_lexer": "ipython3",
   "version": "3.12.4"
  }
 },
 "nbformat": 4,
 "nbformat_minor": 5
}
