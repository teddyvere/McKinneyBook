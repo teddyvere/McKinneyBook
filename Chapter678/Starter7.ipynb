{
 "cells": [
  {
   "cell_type": "markdown",
   "id": "8047c323",
   "metadata": {},
   "source": [
    "The first part of data analysis is an initial exploration of the data . This is important because oddities in the data can cause bugs and muddle the results.\n",
    "\n",
    "Before deeper questions are explored you must answer the simpler ones about the form and the quality of the data."
   ]
  },
  {
   "cell_type": "code",
   "execution_count": 5,
   "id": "220890b3-5a99-4892-a955-4eb2f339ae34",
   "metadata": {},
   "outputs": [
    {
     "name": "stdout",
     "output_type": "stream",
     "text": [
      "[0, 1, 4, 9, 16, 25, 36, 49, 64, 81]\n"
     ]
    }
   ],
   "source": []
  }
 ],
 "metadata": {
  "kernelspec": {
   "display_name": "base",
   "language": "python",
   "name": "python3"
  },
  "language_info": {
   "codemirror_mode": {
    "name": "ipython",
    "version": 3
   },
   "file_extension": ".py",
   "mimetype": "text/x-python",
   "name": "python",
   "nbconvert_exporter": "python",
   "pygments_lexer": "ipython3",
   "version": "3.12.4"
  }
 },
 "nbformat": 4,
 "nbformat_minor": 5
}
