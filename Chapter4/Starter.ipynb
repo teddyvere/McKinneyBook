{
 "cells": [
  {
   "cell_type": "code",
   "execution_count": 150,
   "id": "220890b3-5a99-4892-a955-4eb2f339ae34",
   "metadata": {},
   "outputs": [],
   "source": [
    "import numpy as np\n",
    "import pandas as pd\n",
    "from pandas import Series, DataFrame\n",
    "\n"
   ]
  },
  {
   "cell_type": "markdown",
   "id": "c8ff71c7",
   "metadata": {},
   "source": [
    "A seires is a one-dimensional labeled array capable of holding any data type\n",
    "Series Example:"
   ]
  },
  {
   "cell_type": "code",
   "execution_count": 151,
   "id": "89651e0c",
   "metadata": {},
   "outputs": [
    {
     "data": {
      "text/plain": [
       "0    4\n",
       "1    7\n",
       "2   -5\n",
       "3    3\n",
       "dtype: int64"
      ]
     },
     "execution_count": 151,
     "metadata": {},
     "output_type": "execute_result"
    }
   ],
   "source": [
    "obj = pd.Series([4, 7, -5, 3])\n",
    "\n",
    "obj"
   ]
  },
  {
   "cell_type": "markdown",
   "id": "039f074b",
   "metadata": {},
   "source": [
    "The string representation of the series shows the index (range index), followed by the values.\n",
    "Because to index is specified a default index is given.\n",
    "\n",
    "Below is a series with an index:"
   ]
  },
  {
   "cell_type": "code",
   "execution_count": 152,
   "id": "335ec5cc",
   "metadata": {},
   "outputs": [
    {
     "data": {
      "text/plain": [
       "a    4\n",
       "b    7\n",
       "c   -5\n",
       "d    3\n",
       "dtype: int64"
      ]
     },
     "execution_count": 152,
     "metadata": {},
     "output_type": "execute_result"
    }
   ],
   "source": [
    "obj2 = pd.Series([4, 7, -5, 3], index=['a','b','c','d'])\n",
    "\n",
    "obj2"
   ]
  },
  {
   "cell_type": "code",
   "execution_count": 153,
   "id": "b724ba82",
   "metadata": {},
   "outputs": [
    {
     "data": {
      "text/plain": [
       "a     8\n",
       "b    14\n",
       "c   -10\n",
       "d     6\n",
       "dtype: int64"
      ]
     },
     "execution_count": 153,
     "metadata": {},
     "output_type": "execute_result"
    }
   ],
   "source": [
    "obj2 * 2\n"
   ]
  },
  {
   "cell_type": "code",
   "execution_count": 154,
   "id": "dc66cda6",
   "metadata": {},
   "outputs": [
    {
     "data": {
      "text/plain": [
       "a    4\n",
       "b    7\n",
       "d    3\n",
       "dtype: int64"
      ]
     },
     "execution_count": 154,
     "metadata": {},
     "output_type": "execute_result"
    }
   ],
   "source": [
    "obj2[obj2 > 0]"
   ]
  },
  {
   "cell_type": "markdown",
   "id": "70be0ed5",
   "metadata": {},
   "source": [
    "We can apply mathematical operations to series as seen above on obj2.\n",
    "\n",
    "A series is like a fixed length ordered dictionary.\n",
    "A dictionary can easily be converted to a series.\n",
    "And vice versa."
   ]
  },
  {
   "cell_type": "code",
   "execution_count": 155,
   "id": "680f16d9",
   "metadata": {},
   "outputs": [
    {
     "data": {
      "text/plain": [
       "2.25"
      ]
     },
     "execution_count": 155,
     "metadata": {},
     "output_type": "execute_result"
    }
   ],
   "source": [
    "np.mean(obj2)"
   ]
  },
  {
   "cell_type": "markdown",
   "id": "f347bd8c",
   "metadata": {},
   "source": [
    "Numpy funtions can be applied to series.\n",
    "\n",
    "DataFrame is a two-dimensional labeled data structure with columns of potentially different types.\n",
    "\n",
    "When making a dtataframe out of a dictionary, the keys become column names and the values become the data."
   ]
  },
  {
   "cell_type": "code",
   "execution_count": 156,
   "id": "4a0c18a5",
   "metadata": {},
   "outputs": [
    {
     "data": {
      "text/html": [
       "<div>\n",
       "<style scoped>\n",
       "    .dataframe tbody tr th:only-of-type {\n",
       "        vertical-align: middle;\n",
       "    }\n",
       "\n",
       "    .dataframe tbody tr th {\n",
       "        vertical-align: top;\n",
       "    }\n",
       "\n",
       "    .dataframe thead th {\n",
       "        text-align: right;\n",
       "    }\n",
       "</style>\n",
       "<table border=\"1\" class=\"dataframe\">\n",
       "  <thead>\n",
       "    <tr style=\"text-align: right;\">\n",
       "      <th></th>\n",
       "      <th>name</th>\n",
       "      <th>age</th>\n",
       "      <th>weight</th>\n",
       "      <th>height</th>\n",
       "      <th>siblings</th>\n",
       "      <th>gender</th>\n",
       "    </tr>\n",
       "  </thead>\n",
       "  <tbody>\n",
       "    <tr>\n",
       "      <th>John</th>\n",
       "      <td>John</td>\n",
       "      <td>25</td>\n",
       "      <td>70</td>\n",
       "      <td>4.5</td>\n",
       "      <td>1</td>\n",
       "      <td>M</td>\n",
       "    </tr>\n",
       "    <tr>\n",
       "      <th>Doe</th>\n",
       "      <td>Doe</td>\n",
       "      <td>30</td>\n",
       "      <td>80</td>\n",
       "      <td>5.0</td>\n",
       "      <td>1</td>\n",
       "      <td>M</td>\n",
       "    </tr>\n",
       "    <tr>\n",
       "      <th>Jane</th>\n",
       "      <td>Jane</td>\n",
       "      <td>28</td>\n",
       "      <td>65</td>\n",
       "      <td>4.8</td>\n",
       "      <td>1</td>\n",
       "      <td>M</td>\n",
       "    </tr>\n",
       "  </tbody>\n",
       "</table>\n",
       "</div>"
      ],
      "text/plain": [
       "      name  age  weight  height  siblings gender\n",
       "John  John   25      70     4.5         1      M\n",
       "Doe    Doe   30      80     5.0         1      M\n",
       "Jane  Jane   28      65     4.8         1      M"
      ]
     },
     "execution_count": 156,
     "metadata": {},
     "output_type": "execute_result"
    }
   ],
   "source": [
    "my_dict = {\"name\" : [\"John\", \"Doe\", \"Jane\"],\n",
    "           \"age\" : np.array([25, 30, 28]),\n",
    "           \"weight\" : (70, 80, 65),\n",
    "           \"height\" : pd.Series([4.5, 5.0, 4.8], index = [\"John\", \"Doe\", \"Jane\"]),\n",
    "           \"siblings\" : 1,\n",
    "           \"gender\" : \"M\"}\n",
    "\n",
    "df = pd.DataFrame(my_dict)\n",
    "\n",
    "df"
   ]
  },
  {
   "cell_type": "markdown",
   "id": "c1e4b0aa",
   "metadata": {},
   "source": [
    "All for datatypes are capable of being stored in a DataFrame.\n",
    "If one of you data columns is a pandas series that alredy has an index, pandas will use that index for the dataframe.\n",
    "\n",
    "My_dict2 uses a list of height instead of a pandas series, it will also have a different index."
   ]
  },
  {
   "cell_type": "code",
   "execution_count": 157,
   "id": "83cfca1c",
   "metadata": {},
   "outputs": [
    {
     "data": {
      "text/html": [
       "<div>\n",
       "<style scoped>\n",
       "    .dataframe tbody tr th:only-of-type {\n",
       "        vertical-align: middle;\n",
       "    }\n",
       "\n",
       "    .dataframe tbody tr th {\n",
       "        vertical-align: top;\n",
       "    }\n",
       "\n",
       "    .dataframe thead th {\n",
       "        text-align: right;\n",
       "    }\n",
       "</style>\n",
       "<table border=\"1\" class=\"dataframe\">\n",
       "  <thead>\n",
       "    <tr style=\"text-align: right;\">\n",
       "      <th></th>\n",
       "      <th>name</th>\n",
       "      <th>age</th>\n",
       "      <th>weight</th>\n",
       "      <th>height</th>\n",
       "      <th>siblings</th>\n",
       "      <th>gender</th>\n",
       "    </tr>\n",
       "  </thead>\n",
       "  <tbody>\n",
       "    <tr>\n",
       "      <th>0</th>\n",
       "      <td>John</td>\n",
       "      <td>25</td>\n",
       "      <td>70</td>\n",
       "      <td>4.5</td>\n",
       "      <td>1</td>\n",
       "      <td>M</td>\n",
       "    </tr>\n",
       "    <tr>\n",
       "      <th>1</th>\n",
       "      <td>Doe</td>\n",
       "      <td>30</td>\n",
       "      <td>80</td>\n",
       "      <td>5.0</td>\n",
       "      <td>1</td>\n",
       "      <td>M</td>\n",
       "    </tr>\n",
       "    <tr>\n",
       "      <th>2</th>\n",
       "      <td>Jane</td>\n",
       "      <td>28</td>\n",
       "      <td>65</td>\n",
       "      <td>4.8</td>\n",
       "      <td>1</td>\n",
       "      <td>M</td>\n",
       "    </tr>\n",
       "  </tbody>\n",
       "</table>\n",
       "</div>"
      ],
      "text/plain": [
       "   name  age  weight  height  siblings gender\n",
       "0  John   25      70     4.5         1      M\n",
       "1   Doe   30      80     5.0         1      M\n",
       "2  Jane   28      65     4.8         1      M"
      ]
     },
     "execution_count": 157,
     "metadata": {},
     "output_type": "execute_result"
    }
   ],
   "source": [
    "my_dict2 = {\"name\" : [\"John\", \"Doe\", \"Jane\"],\n",
    "           \"age\" : np.array([25, 30, 28]),\n",
    "           \"weight\" : (70, 80, 65),\n",
    "           \"height\" : [4.5, 5.0, 4.8],\n",
    "           \"siblings\" : 1,\n",
    "           \"gender\" : \"M\"}\n",
    "\n",
    "df2 = pd.DataFrame(my_dict2)\n",
    "\n",
    "df2"
   ]
  },
  {
   "cell_type": "code",
   "execution_count": 158,
   "id": "f26005ed",
   "metadata": {},
   "outputs": [
    {
     "data": {
      "text/html": [
       "<div>\n",
       "<style scoped>\n",
       "    .dataframe tbody tr th:only-of-type {\n",
       "        vertical-align: middle;\n",
       "    }\n",
       "\n",
       "    .dataframe tbody tr th {\n",
       "        vertical-align: top;\n",
       "    }\n",
       "\n",
       "    .dataframe thead th {\n",
       "        text-align: right;\n",
       "    }\n",
       "</style>\n",
       "<table border=\"1\" class=\"dataframe\">\n",
       "  <thead>\n",
       "    <tr style=\"text-align: right;\">\n",
       "      <th></th>\n",
       "      <th>name</th>\n",
       "      <th>age</th>\n",
       "      <th>weight</th>\n",
       "      <th>height</th>\n",
       "      <th>siblings</th>\n",
       "      <th>gender</th>\n",
       "    </tr>\n",
       "  </thead>\n",
       "  <tbody>\n",
       "    <tr>\n",
       "      <th>John</th>\n",
       "      <td>John</td>\n",
       "      <td>25</td>\n",
       "      <td>70</td>\n",
       "      <td>4.5</td>\n",
       "      <td>1</td>\n",
       "      <td>M</td>\n",
       "    </tr>\n",
       "    <tr>\n",
       "      <th>Doe</th>\n",
       "      <td>Doe</td>\n",
       "      <td>30</td>\n",
       "      <td>80</td>\n",
       "      <td>5.0</td>\n",
       "      <td>1</td>\n",
       "      <td>M</td>\n",
       "    </tr>\n",
       "    <tr>\n",
       "      <th>Jane</th>\n",
       "      <td>Jane</td>\n",
       "      <td>28</td>\n",
       "      <td>65</td>\n",
       "      <td>4.8</td>\n",
       "      <td>1</td>\n",
       "      <td>M</td>\n",
       "    </tr>\n",
       "  </tbody>\n",
       "</table>\n",
       "</div>"
      ],
      "text/plain": [
       "      name  age  weight  height  siblings gender\n",
       "John  John   25      70     4.5         1      M\n",
       "Doe    Doe   30      80     5.0         1      M\n",
       "Jane  Jane   28      65     4.8         1      M"
      ]
     },
     "execution_count": 158,
     "metadata": {},
     "output_type": "execute_result"
    }
   ],
   "source": [
    "\n",
    "\n",
    "df2 = pd.DataFrame(my_dict2, index = my_dict[\"name\"])\n",
    "\n",
    "df2"
   ]
  },
  {
   "cell_type": "markdown",
   "id": "2f640654",
   "metadata": {},
   "source": [
    "Df2 gets its index from the name column in my_dict.\n",
    "Dataframes behave like a dictionary of Series objects that each have the same length and indices."
   ]
  },
  {
   "cell_type": "code",
   "execution_count": 159,
   "id": "8ab8c91f",
   "metadata": {},
   "outputs": [
    {
     "data": {
      "text/plain": [
       "John    70\n",
       "Doe     80\n",
       "Jane    65\n",
       "Name: weight, dtype: int64"
      ]
     },
     "execution_count": 159,
     "metadata": {},
     "output_type": "execute_result"
    }
   ],
   "source": [
    "#Get a specific column by name\n",
    "df2[\"weight\"]\n"
   ]
  },
  {
   "cell_type": "code",
   "execution_count": 160,
   "id": "516c59ff",
   "metadata": {},
   "outputs": [
    {
     "data": {
      "text/plain": [
       "John    70\n",
       "Doe     80\n",
       "Jane    65\n",
       "Name: weight, dtype: int64"
      ]
     },
     "execution_count": 160,
     "metadata": {},
     "output_type": "execute_result"
    }
   ],
   "source": [
    "#Get a specific column by name using dot notation\n",
    "df2.weight"
   ]
  },
  {
   "cell_type": "code",
   "execution_count": 161,
   "id": "eda59629",
   "metadata": {},
   "outputs": [],
   "source": [
    "#delete a column\n",
    "del df2['name']"
   ]
  },
  {
   "cell_type": "code",
   "execution_count": 162,
   "id": "9cde8f67",
   "metadata": {},
   "outputs": [
    {
     "data": {
      "text/html": [
       "<div>\n",
       "<style scoped>\n",
       "    .dataframe tbody tr th:only-of-type {\n",
       "        vertical-align: middle;\n",
       "    }\n",
       "\n",
       "    .dataframe tbody tr th {\n",
       "        vertical-align: top;\n",
       "    }\n",
       "\n",
       "    .dataframe thead th {\n",
       "        text-align: right;\n",
       "    }\n",
       "</style>\n",
       "<table border=\"1\" class=\"dataframe\">\n",
       "  <thead>\n",
       "    <tr style=\"text-align: right;\">\n",
       "      <th></th>\n",
       "      <th>age</th>\n",
       "      <th>weight</th>\n",
       "      <th>height</th>\n",
       "      <th>siblings</th>\n",
       "      <th>gender</th>\n",
       "      <th>IQ</th>\n",
       "    </tr>\n",
       "  </thead>\n",
       "  <tbody>\n",
       "    <tr>\n",
       "      <th>John</th>\n",
       "      <td>25</td>\n",
       "      <td>70</td>\n",
       "      <td>4.5</td>\n",
       "      <td>1</td>\n",
       "      <td>M</td>\n",
       "      <td>130</td>\n",
       "    </tr>\n",
       "    <tr>\n",
       "      <th>Doe</th>\n",
       "      <td>30</td>\n",
       "      <td>80</td>\n",
       "      <td>5.0</td>\n",
       "      <td>1</td>\n",
       "      <td>M</td>\n",
       "      <td>105</td>\n",
       "    </tr>\n",
       "    <tr>\n",
       "      <th>Jane</th>\n",
       "      <td>28</td>\n",
       "      <td>65</td>\n",
       "      <td>4.8</td>\n",
       "      <td>1</td>\n",
       "      <td>M</td>\n",
       "      <td>115</td>\n",
       "    </tr>\n",
       "  </tbody>\n",
       "</table>\n",
       "</div>"
      ],
      "text/plain": [
       "      age  weight  height  siblings gender   IQ\n",
       "John   25      70     4.5         1      M  130\n",
       "Doe    30      80     5.0         1      M  105\n",
       "Jane   28      65     4.8         1      M  115"
      ]
     },
     "execution_count": 162,
     "metadata": {},
     "output_type": "execute_result"
    }
   ],
   "source": [
    "#Add a new column\n",
    "df2[\"IQ\"] = [130,105,115]\n",
    "df2"
   ]
  },
  {
   "cell_type": "markdown",
   "id": "0b77d8c5",
   "metadata": {},
   "source": [
    "Ensure that the new column has the same length as the DataFrame or else it will raise a ValueError or fill in all values with the same value if a single value is provided. An example is provided below:"
   ]
  },
  {
   "cell_type": "code",
   "execution_count": 163,
   "id": "5a715df7",
   "metadata": {},
   "outputs": [
    {
     "data": {
      "text/html": [
       "<div>\n",
       "<style scoped>\n",
       "    .dataframe tbody tr th:only-of-type {\n",
       "        vertical-align: middle;\n",
       "    }\n",
       "\n",
       "    .dataframe tbody tr th {\n",
       "        vertical-align: top;\n",
       "    }\n",
       "\n",
       "    .dataframe thead th {\n",
       "        text-align: right;\n",
       "    }\n",
       "</style>\n",
       "<table border=\"1\" class=\"dataframe\">\n",
       "  <thead>\n",
       "    <tr style=\"text-align: right;\">\n",
       "      <th></th>\n",
       "      <th>age</th>\n",
       "      <th>weight</th>\n",
       "      <th>height</th>\n",
       "      <th>siblings</th>\n",
       "      <th>gender</th>\n",
       "      <th>IQ</th>\n",
       "      <th>married</th>\n",
       "    </tr>\n",
       "  </thead>\n",
       "  <tbody>\n",
       "    <tr>\n",
       "      <th>John</th>\n",
       "      <td>25</td>\n",
       "      <td>70</td>\n",
       "      <td>4.5</td>\n",
       "      <td>1</td>\n",
       "      <td>M</td>\n",
       "      <td>130</td>\n",
       "      <td>False</td>\n",
       "    </tr>\n",
       "    <tr>\n",
       "      <th>Doe</th>\n",
       "      <td>30</td>\n",
       "      <td>80</td>\n",
       "      <td>5.0</td>\n",
       "      <td>1</td>\n",
       "      <td>M</td>\n",
       "      <td>105</td>\n",
       "      <td>False</td>\n",
       "    </tr>\n",
       "    <tr>\n",
       "      <th>Jane</th>\n",
       "      <td>28</td>\n",
       "      <td>65</td>\n",
       "      <td>4.8</td>\n",
       "      <td>1</td>\n",
       "      <td>M</td>\n",
       "      <td>115</td>\n",
       "      <td>False</td>\n",
       "    </tr>\n",
       "  </tbody>\n",
       "</table>\n",
       "</div>"
      ],
      "text/plain": [
       "      age  weight  height  siblings gender   IQ  married\n",
       "John   25      70     4.5         1      M  130    False\n",
       "Doe    30      80     5.0         1      M  105    False\n",
       "Jane   28      65     4.8         1      M  115    False"
      ]
     },
     "execution_count": 163,
     "metadata": {},
     "output_type": "execute_result"
    }
   ],
   "source": [
    "df2[\"married\"] = False\n",
    "\n",
    "df2"
   ]
  },
  {
   "cell_type": "code",
   "execution_count": 164,
   "id": "23f2e900",
   "metadata": {},
   "outputs": [
    {
     "data": {
      "text/html": [
       "<div>\n",
       "<style scoped>\n",
       "    .dataframe tbody tr th:only-of-type {\n",
       "        vertical-align: middle;\n",
       "    }\n",
       "\n",
       "    .dataframe tbody tr th {\n",
       "        vertical-align: top;\n",
       "    }\n",
       "\n",
       "    .dataframe thead th {\n",
       "        text-align: right;\n",
       "    }\n",
       "</style>\n",
       "<table border=\"1\" class=\"dataframe\">\n",
       "  <thead>\n",
       "    <tr style=\"text-align: right;\">\n",
       "      <th></th>\n",
       "      <th>age</th>\n",
       "      <th>weight</th>\n",
       "      <th>height</th>\n",
       "      <th>siblings</th>\n",
       "      <th>gender</th>\n",
       "      <th>IQ</th>\n",
       "      <th>married</th>\n",
       "      <th>College</th>\n",
       "    </tr>\n",
       "  </thead>\n",
       "  <tbody>\n",
       "    <tr>\n",
       "      <th>John</th>\n",
       "      <td>25</td>\n",
       "      <td>70</td>\n",
       "      <td>4.5</td>\n",
       "      <td>1</td>\n",
       "      <td>M</td>\n",
       "      <td>130</td>\n",
       "      <td>False</td>\n",
       "      <td>NaN</td>\n",
       "    </tr>\n",
       "    <tr>\n",
       "      <th>Doe</th>\n",
       "      <td>30</td>\n",
       "      <td>80</td>\n",
       "      <td>5.0</td>\n",
       "      <td>1</td>\n",
       "      <td>M</td>\n",
       "      <td>105</td>\n",
       "      <td>False</td>\n",
       "      <td>NaN</td>\n",
       "    </tr>\n",
       "    <tr>\n",
       "      <th>Jane</th>\n",
       "      <td>28</td>\n",
       "      <td>65</td>\n",
       "      <td>4.8</td>\n",
       "      <td>1</td>\n",
       "      <td>M</td>\n",
       "      <td>115</td>\n",
       "      <td>False</td>\n",
       "      <td>Harvard</td>\n",
       "    </tr>\n",
       "  </tbody>\n",
       "</table>\n",
       "</div>"
      ],
      "text/plain": [
       "      age  weight  height  siblings gender   IQ  married  College\n",
       "John   25      70     4.5         1      M  130    False      NaN\n",
       "Doe    30      80     5.0         1      M  105    False      NaN\n",
       "Jane   28      65     4.8         1      M  115    False  Harvard"
      ]
     },
     "execution_count": 164,
     "metadata": {},
     "output_type": "execute_result"
    }
   ],
   "source": [
    "df2[\"College\"] = pd.Series([\"Harvard\"], index=[\"Jane\"])\n",
    "\n",
    "df2"
   ]
  },
  {
   "cell_type": "markdown",
   "id": "b4167647",
   "metadata": {},
   "source": [
    "When inserting a series into a DataFrame, rows are matched by index any missing index values will be filled with NaN.\n",
    "\n",
    "You can select both rows or columns by label with df.loc[row_label, column_label] as seen below:"
   ]
  },
  {
   "cell_type": "code",
   "execution_count": 165,
   "id": "554f197f",
   "metadata": {},
   "outputs": [
    {
     "data": {
      "text/plain": [
       "age            25\n",
       "weight         70\n",
       "height        4.5\n",
       "siblings        1\n",
       "gender          M\n",
       "IQ            130\n",
       "married     False\n",
       "College       NaN\n",
       "Name: John, dtype: object"
      ]
     },
     "execution_count": 165,
     "metadata": {},
     "output_type": "execute_result"
    }
   ],
   "source": [
    "df2.loc[\"John\"]"
   ]
  },
  {
   "cell_type": "code",
   "execution_count": 166,
   "id": "6fb11c65",
   "metadata": {},
   "outputs": [
    {
     "data": {
      "text/plain": [
       "130"
      ]
     },
     "execution_count": 166,
     "metadata": {},
     "output_type": "execute_result"
    }
   ],
   "source": [
    "df2.loc[\"John\",\"IQ\"]"
   ]
  },
  {
   "cell_type": "code",
   "execution_count": 167,
   "id": "3f69f9f2",
   "metadata": {},
   "outputs": [
    {
     "data": {
      "text/html": [
       "<div>\n",
       "<style scoped>\n",
       "    .dataframe tbody tr th:only-of-type {\n",
       "        vertical-align: middle;\n",
       "    }\n",
       "\n",
       "    .dataframe tbody tr th {\n",
       "        vertical-align: top;\n",
       "    }\n",
       "\n",
       "    .dataframe thead th {\n",
       "        text-align: right;\n",
       "    }\n",
       "</style>\n",
       "<table border=\"1\" class=\"dataframe\">\n",
       "  <thead>\n",
       "    <tr style=\"text-align: right;\">\n",
       "      <th></th>\n",
       "      <th>IQ</th>\n",
       "      <th>married</th>\n",
       "      <th>College</th>\n",
       "    </tr>\n",
       "  </thead>\n",
       "  <tbody>\n",
       "    <tr>\n",
       "      <th>John</th>\n",
       "      <td>130</td>\n",
       "      <td>False</td>\n",
       "      <td>NaN</td>\n",
       "    </tr>\n",
       "    <tr>\n",
       "      <th>Doe</th>\n",
       "      <td>105</td>\n",
       "      <td>False</td>\n",
       "      <td>NaN</td>\n",
       "    </tr>\n",
       "  </tbody>\n",
       "</table>\n",
       "</div>"
      ],
      "text/plain": [
       "       IQ  married College\n",
       "John  130    False     NaN\n",
       "Doe   105    False     NaN"
      ]
     },
     "execution_count": 167,
     "metadata": {},
     "output_type": "execute_result"
    }
   ],
   "source": [
    "df2.loc[\"John\": \"Doe\", \"IQ\": \"College\"] #slice by rows and columns"
   ]
  },
  {
   "cell_type": "markdown",
   "id": "9a9d54da",
   "metadata": {},
   "source": [
    "You can also select rows or columns by position with df.iloc[row_index, column_] as seen below:\n",
    "This is useful for locating row that were never explicitly labeled."
   ]
  },
  {
   "cell_type": "code",
   "execution_count": 169,
   "id": "36d11ce8",
   "metadata": {},
   "outputs": [
    {
     "data": {
      "text/plain": [
       "age            25\n",
       "weight         70\n",
       "height        4.5\n",
       "siblings        1\n",
       "gender          M\n",
       "IQ            130\n",
       "married     False\n",
       "College       NaN\n",
       "Name: John, dtype: object"
      ]
     },
     "execution_count": 169,
     "metadata": {},
     "output_type": "execute_result"
    }
   ],
   "source": [
    "df2.iloc[0]"
   ]
  },
  {
   "cell_type": "code",
   "execution_count": null,
   "id": "ed2e47ef",
   "metadata": {},
   "outputs": [],
   "source": [
    "df2.iloc[0:2, 5:8] #slice by rows and columns"
   ]
  },
  {
   "cell_type": "code",
   "execution_count": 170,
   "id": "d0f4eea3",
   "metadata": {},
   "outputs": [
    {
     "data": {
      "text/html": [
       "<div>\n",
       "<style scoped>\n",
       "    .dataframe tbody tr th:only-of-type {\n",
       "        vertical-align: middle;\n",
       "    }\n",
       "\n",
       "    .dataframe tbody tr th {\n",
       "        vertical-align: top;\n",
       "    }\n",
       "\n",
       "    .dataframe thead th {\n",
       "        text-align: right;\n",
       "    }\n",
       "</style>\n",
       "<table border=\"1\" class=\"dataframe\">\n",
       "  <thead>\n",
       "    <tr style=\"text-align: right;\">\n",
       "      <th></th>\n",
       "      <th>age</th>\n",
       "      <th>weight</th>\n",
       "      <th>height</th>\n",
       "      <th>siblings</th>\n",
       "      <th>gender</th>\n",
       "      <th>IQ</th>\n",
       "      <th>married</th>\n",
       "      <th>College</th>\n",
       "    </tr>\n",
       "  </thead>\n",
       "  <tbody>\n",
       "    <tr>\n",
       "      <th>John</th>\n",
       "      <td>25</td>\n",
       "      <td>70</td>\n",
       "      <td>4.5</td>\n",
       "      <td>1</td>\n",
       "      <td>M</td>\n",
       "      <td>130</td>\n",
       "      <td>False</td>\n",
       "      <td>NaN</td>\n",
       "    </tr>\n",
       "    <tr>\n",
       "      <th>Jane</th>\n",
       "      <td>28</td>\n",
       "      <td>65</td>\n",
       "      <td>4.8</td>\n",
       "      <td>1</td>\n",
       "      <td>M</td>\n",
       "      <td>115</td>\n",
       "      <td>False</td>\n",
       "      <td>Harvard</td>\n",
       "    </tr>\n",
       "  </tbody>\n",
       "</table>\n",
       "</div>"
      ],
      "text/plain": [
       "      age  weight  height  siblings gender   IQ  married  College\n",
       "John   25      70     4.5         1      M  130    False      NaN\n",
       "Jane   28      65     4.8         1      M  115    False  Harvard"
      ]
     },
     "execution_count": 170,
     "metadata": {},
     "output_type": "execute_result"
    }
   ],
   "source": [
    "booolean_index = [True, False, True] #this will only return rows where the boolean index is True\n",
    "df2[booolean_index] #slice by rows based on a boolean index\n"
   ]
  },
  {
   "cell_type": "markdown",
   "id": "dd68001c",
   "metadata": {},
   "source": [
    "Logical boolean indexing us useful for subsetting data based on certain conditions. For example to get all rows where the age is greater than 25:"
   ]
  },
  {
   "cell_type": "code",
   "execution_count": 171,
   "id": "6acf898b",
   "metadata": {},
   "outputs": [
    {
     "data": {
      "text/html": [
       "<div>\n",
       "<style scoped>\n",
       "    .dataframe tbody tr th:only-of-type {\n",
       "        vertical-align: middle;\n",
       "    }\n",
       "\n",
       "    .dataframe tbody tr th {\n",
       "        vertical-align: top;\n",
       "    }\n",
       "\n",
       "    .dataframe thead th {\n",
       "        text-align: right;\n",
       "    }\n",
       "</style>\n",
       "<table border=\"1\" class=\"dataframe\">\n",
       "  <thead>\n",
       "    <tr style=\"text-align: right;\">\n",
       "      <th></th>\n",
       "      <th>age</th>\n",
       "      <th>weight</th>\n",
       "      <th>height</th>\n",
       "      <th>siblings</th>\n",
       "      <th>gender</th>\n",
       "      <th>IQ</th>\n",
       "      <th>married</th>\n",
       "      <th>College</th>\n",
       "    </tr>\n",
       "  </thead>\n",
       "  <tbody>\n",
       "    <tr>\n",
       "      <th>Doe</th>\n",
       "      <td>30</td>\n",
       "      <td>80</td>\n",
       "      <td>5.0</td>\n",
       "      <td>1</td>\n",
       "      <td>M</td>\n",
       "      <td>105</td>\n",
       "      <td>False</td>\n",
       "      <td>NaN</td>\n",
       "    </tr>\n",
       "    <tr>\n",
       "      <th>Jane</th>\n",
       "      <td>28</td>\n",
       "      <td>65</td>\n",
       "      <td>4.8</td>\n",
       "      <td>1</td>\n",
       "      <td>M</td>\n",
       "      <td>115</td>\n",
       "      <td>False</td>\n",
       "      <td>Harvard</td>\n",
       "    </tr>\n",
       "  </tbody>\n",
       "</table>\n",
       "</div>"
      ],
      "text/plain": [
       "      age  weight  height  siblings gender   IQ  married  College\n",
       "Doe    30      80     5.0         1      M  105    False      NaN\n",
       "Jane   28      65     4.8         1      M  115    False  Harvard"
      ]
     },
     "execution_count": 171,
     "metadata": {},
     "output_type": "execute_result"
    }
   ],
   "source": [
    "boolean_index = df2[\"age\"] > 25\n",
    "\n",
    "df2[boolean_index]"
   ]
  },
  {
   "cell_type": "markdown",
   "id": "726f5d26",
   "metadata": {},
   "source": [
    "You can do this all in one operation as seen below:"
   ]
  },
  {
   "cell_type": "code",
   "execution_count": 172,
   "id": "7e7fec71",
   "metadata": {},
   "outputs": [
    {
     "data": {
      "text/html": [
       "<div>\n",
       "<style scoped>\n",
       "    .dataframe tbody tr th:only-of-type {\n",
       "        vertical-align: middle;\n",
       "    }\n",
       "\n",
       "    .dataframe tbody tr th {\n",
       "        vertical-align: top;\n",
       "    }\n",
       "\n",
       "    .dataframe thead th {\n",
       "        text-align: right;\n",
       "    }\n",
       "</style>\n",
       "<table border=\"1\" class=\"dataframe\">\n",
       "  <thead>\n",
       "    <tr style=\"text-align: right;\">\n",
       "      <th></th>\n",
       "      <th>age</th>\n",
       "      <th>weight</th>\n",
       "      <th>height</th>\n",
       "      <th>siblings</th>\n",
       "      <th>gender</th>\n",
       "      <th>IQ</th>\n",
       "      <th>married</th>\n",
       "      <th>College</th>\n",
       "    </tr>\n",
       "  </thead>\n",
       "  <tbody>\n",
       "    <tr>\n",
       "      <th>Doe</th>\n",
       "      <td>30</td>\n",
       "      <td>80</td>\n",
       "      <td>5.0</td>\n",
       "      <td>1</td>\n",
       "      <td>M</td>\n",
       "      <td>105</td>\n",
       "      <td>False</td>\n",
       "      <td>NaN</td>\n",
       "    </tr>\n",
       "    <tr>\n",
       "      <th>Jane</th>\n",
       "      <td>28</td>\n",
       "      <td>65</td>\n",
       "      <td>4.8</td>\n",
       "      <td>1</td>\n",
       "      <td>M</td>\n",
       "      <td>115</td>\n",
       "      <td>False</td>\n",
       "      <td>Harvard</td>\n",
       "    </tr>\n",
       "  </tbody>\n",
       "</table>\n",
       "</div>"
      ],
      "text/plain": [
       "      age  weight  height  siblings gender   IQ  married  College\n",
       "Doe    30      80     5.0         1      M  105    False      NaN\n",
       "Jane   28      65     4.8         1      M  115    False  Harvard"
      ]
     },
     "execution_count": 172,
     "metadata": {},
     "output_type": "execute_result"
    }
   ],
   "source": [
    "df2[df2[\"age\"] > 25]"
   ]
  },
  {
   "cell_type": "markdown",
   "id": "638552c4",
   "metadata": {},
   "source": [
    "Exploring data\n",
    "\n",
    "Most times when you get a dataframe, its not going to be something you made in python its going to be read from a file, or scraped from a website.\n",
    "\n",
    "Your going to need to know some basic functions to explore your data."
   ]
  }
 ],
 "metadata": {
  "kernelspec": {
   "display_name": "base",
   "language": "python",
   "name": "python3"
  },
  "language_info": {
   "codemirror_mode": {
    "name": "ipython",
    "version": 3
   },
   "file_extension": ".py",
   "mimetype": "text/x-python",
   "name": "python",
   "nbconvert_exporter": "python",
   "pygments_lexer": "ipython3",
   "version": "3.12.4"
  }
 },
 "nbformat": 4,
 "nbformat_minor": 5
}
