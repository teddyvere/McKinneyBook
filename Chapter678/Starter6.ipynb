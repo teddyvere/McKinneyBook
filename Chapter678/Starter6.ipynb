{
 "cells": [
  {
   "cell_type": "markdown",
   "id": "1a25d9cf",
   "metadata": {},
   "source": [
    "In pandas you can read data from various file formats such as CSV, Excel, JSON, HTML, SQL, and many more. First we need to locate the file."
   ]
  },
  {
   "cell_type": "code",
   "execution_count": 1,
   "id": "220890b3-5a99-4892-a955-4eb2f339ae34",
   "metadata": {},
   "outputs": [
    {
     "data": {
      "text/plain": [
       "'/Users/teddy/Documents/GitHub/Week6/McKinneyBook/Chapter678'"
      ]
     },
     "execution_count": 1,
     "metadata": {},
     "output_type": "execute_result"
    }
   ],
   "source": [
    "import os\n",
    "\n",
    "os.getcwd() # Check the current working directory"
   ]
  },
  {
   "cell_type": "code",
   "execution_count": 5,
   "id": "054e3069",
   "metadata": {},
   "outputs": [
    {
     "data": {
      "text/plain": [
       "'/Users/teddy/Documents/GitHub/Week6/McKinneyBook/Chapter5'"
      ]
     },
     "execution_count": 5,
     "metadata": {},
     "output_type": "execute_result"
    }
   ],
   "source": [
    "os.chdir('/Users/teddy/Documents/GitHub/Week6/McKinneyBook/Chapter5')\n",
    "os.getcwd() # Check the updated working directory"
   ]
  },
  {
   "cell_type": "code",
   "execution_count": 7,
   "id": "64b05896",
   "metadata": {},
   "outputs": [
    {
     "data": {
      "text/plain": [
       "['test.csv', 'train.csv', 'gender_submission.csv']"
      ]
     },
     "execution_count": 7,
     "metadata": {},
     "output_type": "execute_result"
    }
   ],
   "source": [
    "os.listdir('/Users/teddy/Documents/GitHub/Week6/McKinneyBook/Chapter5/titanic') # List all files in the current directory"
   ]
  },
  {
   "cell_type": "markdown",
   "id": "072415bf",
   "metadata": {},
   "source": [
    "Data is commonly stored in CSV and TSV formats. Let's read a CSV file using pandas."
   ]
  },
  {
   "cell_type": "code",
   "execution_count": 9,
   "id": "7ddc8c02",
   "metadata": {},
   "outputs": [
    {
     "data": {
      "text/html": [
       "<div>\n",
       "<style scoped>\n",
       "    .dataframe tbody tr th:only-of-type {\n",
       "        vertical-align: middle;\n",
       "    }\n",
       "\n",
       "    .dataframe tbody tr th {\n",
       "        vertical-align: top;\n",
       "    }\n",
       "\n",
       "    .dataframe thead th {\n",
       "        text-align: right;\n",
       "    }\n",
       "</style>\n",
       "<table border=\"1\" class=\"dataframe\">\n",
       "  <thead>\n",
       "    <tr style=\"text-align: right;\">\n",
       "      <th></th>\n",
       "      <th>PassengerId</th>\n",
       "      <th>Survived</th>\n",
       "      <th>Pclass</th>\n",
       "      <th>Name</th>\n",
       "      <th>Sex</th>\n",
       "      <th>Age</th>\n",
       "      <th>SibSp</th>\n",
       "      <th>Parch</th>\n",
       "      <th>Ticket</th>\n",
       "      <th>Fare</th>\n",
       "      <th>Cabin</th>\n",
       "      <th>Embarked</th>\n",
       "    </tr>\n",
       "  </thead>\n",
       "  <tbody>\n",
       "    <tr>\n",
       "      <th>0</th>\n",
       "      <td>1</td>\n",
       "      <td>0</td>\n",
       "      <td>3</td>\n",
       "      <td>Braund, Mr. Owen Harris</td>\n",
       "      <td>male</td>\n",
       "      <td>22.0</td>\n",
       "      <td>1</td>\n",
       "      <td>0</td>\n",
       "      <td>A/5 21171</td>\n",
       "      <td>7.2500</td>\n",
       "      <td>NaN</td>\n",
       "      <td>S</td>\n",
       "    </tr>\n",
       "    <tr>\n",
       "      <th>1</th>\n",
       "      <td>2</td>\n",
       "      <td>1</td>\n",
       "      <td>1</td>\n",
       "      <td>Cumings, Mrs. John Bradley (Florence Briggs Th...</td>\n",
       "      <td>female</td>\n",
       "      <td>38.0</td>\n",
       "      <td>1</td>\n",
       "      <td>0</td>\n",
       "      <td>PC 17599</td>\n",
       "      <td>71.2833</td>\n",
       "      <td>C85</td>\n",
       "      <td>C</td>\n",
       "    </tr>\n",
       "    <tr>\n",
       "      <th>2</th>\n",
       "      <td>3</td>\n",
       "      <td>1</td>\n",
       "      <td>3</td>\n",
       "      <td>Heikkinen, Miss. Laina</td>\n",
       "      <td>female</td>\n",
       "      <td>26.0</td>\n",
       "      <td>0</td>\n",
       "      <td>0</td>\n",
       "      <td>STON/O2. 3101282</td>\n",
       "      <td>7.9250</td>\n",
       "      <td>NaN</td>\n",
       "      <td>S</td>\n",
       "    </tr>\n",
       "    <tr>\n",
       "      <th>3</th>\n",
       "      <td>4</td>\n",
       "      <td>1</td>\n",
       "      <td>1</td>\n",
       "      <td>Futrelle, Mrs. Jacques Heath (Lily May Peel)</td>\n",
       "      <td>female</td>\n",
       "      <td>35.0</td>\n",
       "      <td>1</td>\n",
       "      <td>0</td>\n",
       "      <td>113803</td>\n",
       "      <td>53.1000</td>\n",
       "      <td>C123</td>\n",
       "      <td>S</td>\n",
       "    </tr>\n",
       "    <tr>\n",
       "      <th>4</th>\n",
       "      <td>5</td>\n",
       "      <td>0</td>\n",
       "      <td>3</td>\n",
       "      <td>Allen, Mr. William Henry</td>\n",
       "      <td>male</td>\n",
       "      <td>35.0</td>\n",
       "      <td>0</td>\n",
       "      <td>0</td>\n",
       "      <td>373450</td>\n",
       "      <td>8.0500</td>\n",
       "      <td>NaN</td>\n",
       "      <td>S</td>\n",
       "    </tr>\n",
       "  </tbody>\n",
       "</table>\n",
       "</div>"
      ],
      "text/plain": [
       "   PassengerId  Survived  Pclass  \\\n",
       "0            1         0       3   \n",
       "1            2         1       1   \n",
       "2            3         1       3   \n",
       "3            4         1       1   \n",
       "4            5         0       3   \n",
       "\n",
       "                                                Name     Sex   Age  SibSp  \\\n",
       "0                            Braund, Mr. Owen Harris    male  22.0      1   \n",
       "1  Cumings, Mrs. John Bradley (Florence Briggs Th...  female  38.0      1   \n",
       "2                             Heikkinen, Miss. Laina  female  26.0      0   \n",
       "3       Futrelle, Mrs. Jacques Heath (Lily May Peel)  female  35.0      1   \n",
       "4                           Allen, Mr. William Henry    male  35.0      0   \n",
       "\n",
       "   Parch            Ticket     Fare Cabin Embarked  \n",
       "0      0         A/5 21171   7.2500   NaN        S  \n",
       "1      0          PC 17599  71.2833   C85        C  \n",
       "2      0  STON/O2. 3101282   7.9250   NaN        S  \n",
       "3      0            113803  53.1000  C123        S  \n",
       "4      0            373450   8.0500   NaN        S  "
      ]
     },
     "execution_count": 9,
     "metadata": {},
     "output_type": "execute_result"
    }
   ],
   "source": [
    "import pandas as pd\n",
    "\n",
    "titanic_train = pd.read_csv('titanic/train.csv')\n",
    "\n",
    "titanic_train.head() # Display the first few rows of the DataFrame"
   ]
  },
  {
   "cell_type": "markdown",
   "id": "0fc696a1",
   "metadata": {},
   "source": [
    "To read a TSV file, you can use pd.read_tab() instead of pd.read_csv()."
   ]
  },
  {
   "cell_type": "markdown",
   "id": "19276c8a",
   "metadata": {},
   "source": [
    "To read excel files, you can use pd.read_excel('file/path', sheet_name = 'nameOfSheet')."
   ]
  },
  {
   "cell_type": "markdown",
   "id": "44a7dc5f",
   "metadata": {},
   "source": [
    "The internet gives you access to more data than you could ever hope to analyze\n",
    "The easiest way to go about this is to simply download a csv, tsv, or excel file from a website and then read it into pandas.\n",
    "\n",
    "Alternatively when can copy and paste from a website with out clipboard and use      pd.read_clipboard() to read data directly from the clipboard. Better yet copy the data and paste it into excel and then use pd.read_excel() to read it.\n",
    "\n",
    "Pandas can also read html tables from websites. To do this, you need to know the url of the website and the html table you want to read. The read_html() function does its best job of reading tables from websites but it may not always work perfectly."
   ]
  },
  {
   "cell_type": "markdown",
   "id": "93fddda5",
   "metadata": {},
   "source": [
    "All you need to know to write data to an easy format like csv is the df.to_csv() function."
   ]
  },
  {
   "cell_type": "markdown",
   "id": "2c4ce052",
   "metadata": {},
   "source": [
    "Not all data formats were covered in this course but pandas can handle a wide range of file formats and if it can't there is a library that can convert the data to a format that pandas can handle."
   ]
  },
  {
   "cell_type": "markdown",
   "id": "64f202e6",
   "metadata": {},
   "source": [
    "# I'm going to put some notes about functions in here because they are important to know and my notes for this chapter are   light."
   ]
  },
  {
   "cell_type": "code",
   "execution_count": 3,
   "id": "b38f4ad6",
   "metadata": {},
   "outputs": [
    {
     "data": {
      "text/plain": [
       "73"
      ]
     },
     "execution_count": 3,
     "metadata": {},
     "output_type": "execute_result"
    }
   ],
   "source": [
    "def sum_3_items(x, y, z, print_args = False): # *args makes this function accept any number of arguments\n",
    "    if print_args:  # If print_args is True, print the arguments\n",
    "        print(x, y, z) # Print the arguments in the function\n",
    "    return x + y + z # Return the sum of the arguments\n",
    "\n",
    "sum_3_items(14, 22, 37) # Call the function with three arguments"
   ]
  },
  {
   "cell_type": "code",
   "execution_count": 4,
   "id": "28ce1e1f",
   "metadata": {},
   "outputs": [
    {
     "name": "stdout",
     "output_type": "stream",
     "text": [
      "14 22 37\n"
     ]
    },
    {
     "data": {
      "text/plain": [
       "73"
      ]
     },
     "execution_count": 4,
     "metadata": {},
     "output_type": "execute_result"
    }
   ],
   "source": [
    "sum_3_items(14, 22, 37, True) # Call the function with three arguments and print the arguments"
   ]
  },
  {
   "cell_type": "code",
   "execution_count": 1,
   "id": "fbb055ec",
   "metadata": {},
   "outputs": [
    {
     "name": "stdout",
     "output_type": "stream",
     "text": [
      "<class 'tuple'>\n"
     ]
    },
    {
     "data": {
      "text/plain": [
       "15"
      ]
     },
     "execution_count": 1,
     "metadata": {},
     "output_type": "execute_result"
    }
   ],
   "source": [
    "def sum_many_args(*args): # *args makes this function accept any number of arguments\n",
    "    print(type(args)) # args is a tuple\n",
    "    return sum(args) # Return the sum of the arguments\n",
    "\n",
    "sum_many_args(1, 2, 3, 4, 5) # Call the function with five arguments"
   ]
  },
  {
   "cell_type": "code",
   "execution_count": 5,
   "id": "731a3e94",
   "metadata": {},
   "outputs": [
    {
     "name": "stdout",
     "output_type": "stream",
     "text": [
      "<class 'dict'>\n"
     ]
    },
    {
     "data": {
      "text/plain": [
       "300"
      ]
     },
     "execution_count": 5,
     "metadata": {},
     "output_type": "execute_result"
    }
   ],
   "source": [
    "def sum_keywords(**kwargs): # **kwargs makes this function accept any number of keyword arguments\n",
    "    print(type(kwargs)) # kwargs is a dictionary\n",
    "    return sum(kwargs.values()) # Return the sum of the values in the dictionary\n",
    "\n",
    "sum_keywords(mynum=100, yournum=200) # Call the function with two keyword arguments"
   ]
  },
  {
   "cell_type": "markdown",
   "id": "2cd1d0c3",
   "metadata": {},
   "source": [
    "Function Documentation\n",
    "\n",
    "If your writing a function that is to be used in the future its a good idea to supply some documentation that explains how it works. "
   ]
  },
  {
   "cell_type": "code",
   "execution_count": 6,
   "id": "ff69d45e",
   "metadata": {},
   "outputs": [],
   "source": [
    "import numpy as np\n",
    "\n",
    "def rmse(predicted, targets):\n",
    "    \"\"\"\n",
    "    Computes the root mean squared error of two numpy ndarrays\n",
    "    \n",
    "    Args:\n",
    "        predicted (numpy.ndarray): The predicted values\n",
    "        targets (numpy.ndarray): The actual values\n",
    "    \n",
    "    Returns:\n",
    "        float: The root mean squared error\n",
    "    \"\"\"\n",
    "    return(np.sqrt(np.mean((targets-predicted)**2)))"
   ]
  },
  {
   "cell_type": "markdown",
   "id": "e3e44f94",
   "metadata": {},
   "source": [
    "Lambda functions\n",
    "\n",
    "Python provides a way to define small anonymous functions using the lambda keyword. These are useful when you want to use a function only once or when you need a quick function to use without defining it first."
   ]
  },
  {
   "cell_type": "code",
   "execution_count": null,
   "id": "f6d848e4",
   "metadata": {},
   "outputs": [],
   "source": [
    "lambda x, y: x + y # This is a lambda function that adds two numbers"
   ]
  },
  {
   "cell_type": "code",
   "execution_count": 9,
   "id": "d487bcec",
   "metadata": {},
   "outputs": [
    {
     "data": {
      "text/plain": [
       "7"
      ]
     },
     "execution_count": 9,
     "metadata": {},
     "output_type": "execute_result"
    }
   ],
   "source": [
    "my_function2 = lambda x, y: x + y # Assign the lambda function to a variable and give it a name\n",
    "\n",
    "my_function2(3, 4) # Call the function with two arguments\n",
    "#not the point of a lambda"
   ]
  },
  {
   "cell_type": "markdown",
   "id": "9daffb49",
   "metadata": {},
   "source": [
    "Lambdas can hav names but they truly shine when they are used as arguments to other functions."
   ]
  },
  {
   "cell_type": "code",
   "execution_count": 10,
   "id": "aa559fed",
   "metadata": {},
   "outputs": [
    {
     "name": "stdout",
     "output_type": "stream",
     "text": [
      "1\n",
      "4\n",
      "9\n",
      "16\n",
      "25\n"
     ]
    }
   ],
   "source": [
    "#Example using map() without a lambda function\n",
    "\n",
    "def square(x):\n",
    "    return x**2\n",
    "\n",
    "my_map = map(square, [1, 2, 3, 4, 5]) # Apply the square function to each element in the list\n",
    "\n",
    "for item in my_map:\n",
    "    print(item)"
   ]
  },
  {
   "cell_type": "code",
   "execution_count": 11,
   "id": "47f982cf",
   "metadata": {},
   "outputs": [
    {
     "name": "stdout",
     "output_type": "stream",
     "text": [
      "1\n",
      "4\n",
      "9\n",
      "16\n",
      "25\n"
     ]
    }
   ],
   "source": [
    "#Example using map() with a lambda function\n",
    "\n",
    "my_map = map(lambda x: x**2, [1, 2, 3, 4, 5]) # Apply the lambda function to each element in the list\n",
    "\n",
    "for item in my_map:\n",
    "    print(item)\n",
    "#Example using filter() without a lambda function"
   ]
  },
  {
   "cell_type": "markdown",
   "id": "fa056e17",
   "metadata": {},
   "source": [
    "The lambda function is shorter and more readable than the equivalent map() function."
   ]
  },
  {
   "cell_type": "markdown",
   "id": "29e091d3",
   "metadata": {},
   "source": [
    "Im now going to review list comprehensions."
   ]
  },
  {
   "cell_type": "code",
   "execution_count": 13,
   "id": "de32db9f",
   "metadata": {},
   "outputs": [
    {
     "name": "stdout",
     "output_type": "stream",
     "text": [
      "[0, 1, 4, 9, 16, 25, 36, 49, 64, 81]\n"
     ]
    }
   ],
   "source": [
    "my_list = []\n",
    "for i in range(10):\n",
    "    my_list.append(i**2)\n",
    "print(my_list)"
   ]
  },
  {
   "cell_type": "code",
   "execution_count": 14,
   "id": "2bfd96b1",
   "metadata": {},
   "outputs": [
    {
     "name": "stdout",
     "output_type": "stream",
     "text": [
      "[0, 1, 4, 9, 16, 25, 36, 49, 64, 81]\n"
     ]
    }
   ],
   "source": [
    "#Example using list comprehension\n",
    "\n",
    "print([num **2 for num in range(10)])"
   ]
  },
  {
   "cell_type": "markdown",
   "id": "356fe7df",
   "metadata": {},
   "source": [
    "The list comprehension is expressed in one line as opposed to the for loop.\n",
    "\n",
    "We can also add logical checks to out comprehensions."
   ]
  },
  {
   "cell_type": "code",
   "execution_count": 15,
   "id": "0265f6aa",
   "metadata": {},
   "outputs": [
    {
     "name": "stdout",
     "output_type": "stream",
     "text": [
      "[1, 9, 25, 49, 81]\n"
     ]
    }
   ],
   "source": [
    "print([num **2 for num in range(10) if num % 2 != 0])"
   ]
  },
  {
   "cell_type": "markdown",
   "id": "faa49fd6",
   "metadata": {},
   "source": [
    "We can put more than one for loop in a list comprehension, such as to construct a list from two different iterables."
   ]
  },
  {
   "cell_type": "code",
   "execution_count": 16,
   "id": "241300f0",
   "metadata": {},
   "outputs": [
    {
     "name": "stdout",
     "output_type": "stream",
     "text": [
      "['ls', 'lt', 'lu', 'ld', 'ly', 'is', 'it', 'iu', 'id', 'iy', 'fs', 'ft', 'fu', 'fd', 'fy', 'es', 'et', 'eu', 'ed', 'ey']\n"
     ]
    }
   ],
   "source": [
    "print([a+b for a in \"life\" for b in \"study\"]) # Combine two strings"
   ]
  },
  {
   "cell_type": "markdown",
   "id": "3447f60c",
   "metadata": {},
   "source": [
    "We can also put one list comprehension inside another list comprehension."
   ]
  },
  {
   "cell_type": "code",
   "execution_count": 17,
   "id": "a1b45827",
   "metadata": {},
   "outputs": [
    {
     "name": "stdout",
     "output_type": "stream",
     "text": [
      "['s', 't', 'u', 'd', 'y', 's', 't', 'u', 'd', 'y', 's', 't', 'u', 'd', 'y', 's', 't', 'u', 'd', 'y']\n"
     ]
    }
   ],
   "source": [
    "print([letters[1] for letters in [a + b for a in 'life' for b in'study']]) # Get the second character from each string"
   ]
  },
  {
   "cell_type": "markdown",
   "id": "bb61551c",
   "metadata": {},
   "source": [
    "Too many nested structures on a single line can make the code hard to read.\n",
    "Instead its recommended to use separate lines for each nested structure for easier readability."
   ]
  },
  {
   "cell_type": "code",
   "execution_count": 18,
   "id": "4f65c3e4",
   "metadata": {},
   "outputs": [
    {
     "name": "stdout",
     "output_type": "stream",
     "text": [
      "['s', 't', 'u', 'd', 'y', 's', 't', 'u', 'd', 'y', 's', 't', 'u', 'd', 'y', 's', 't', 'u', 'd', 'y']\n"
     ]
    }
   ],
   "source": [
    "combined = [a + b for a in 'life' for b in'study'] #Combine two strings\n",
    "print([letters[1] for letters in combined]) # Get the second character from each string"
   ]
  },
  {
   "cell_type": "markdown",
   "id": "545ba1e2",
   "metadata": {},
   "source": [
    "Now lets review dictionary comprehensions."
   ]
  },
  {
   "cell_type": "code",
   "execution_count": 19,
   "id": "04177209",
   "metadata": {},
   "outputs": [
    {
     "name": "stdout",
     "output_type": "stream",
     "text": [
      "{'life': 4, 'is': 2, 'study': 5}\n"
     ]
    }
   ],
   "source": [
    "words = ['life','is','study']\n",
    "\n",
    "word_length_dict = {}\n",
    "\n",
    "for word in words:\n",
    "    word_length_dict[word] = len(word)\n",
    "\n",
    "print(word_length_dict)"
   ]
  },
  {
   "cell_type": "code",
   "execution_count": 24,
   "id": "0da143f9",
   "metadata": {},
   "outputs": [
    {
     "name": "stdout",
     "output_type": "stream",
     "text": [
      "{'life': 4, 'is': 2, 'study': 5}\n"
     ]
    }
   ],
   "source": [
    "print({word: len(word) for word in words})"
   ]
  },
  {
   "cell_type": "markdown",
   "id": "094f717f",
   "metadata": {},
   "source": [
    "its common to create a dictionary from two different ordered sequences."
   ]
  },
  {
   "cell_type": "code",
   "execution_count": 25,
   "id": "9a6d16d1",
   "metadata": {},
   "outputs": [
    {
     "name": "stdout",
     "output_type": "stream",
     "text": [
      "('life', 4)\n",
      "('is', 2)\n",
      "('study', 5)\n"
     ]
    }
   ],
   "source": [
    "words = ['life','is','study'] \n",
    "word_lengths = [4, 2, 5]\n",
    "pairs = zip(words, word_lengths) # Combine two sequences into a list of tuples\n",
    "\n",
    "for item in pairs: # Print each tuple\n",
    "    print(item)"
   ]
  },
  {
   "cell_type": "markdown",
   "id": "0d1b6aeb",
   "metadata": {},
   "source": [
    "Lets use zip inside a dictionary comprehension."
   ]
  },
  {
   "cell_type": "code",
   "execution_count": 26,
   "id": "41fbbbfe",
   "metadata": {},
   "outputs": [
    {
     "name": "stdout",
     "output_type": "stream",
     "text": [
      "{'life': 4, 'is': 2, 'study': 5}\n"
     ]
    }
   ],
   "source": [
    "words = ['life','is','study'] \n",
    "word_lengths = [4, 2, 5]\n",
    "print({key:value for (key,value) in zip(words, word_lengths)})"
   ]
  },
  {
   "cell_type": "markdown",
   "id": "b8400063",
   "metadata": {},
   "source": [
    "A set comprehension just cause"
   ]
  },
  {
   "cell_type": "code",
   "execution_count": 27,
   "id": "72b6e72e",
   "metadata": {},
   "outputs": [
    {
     "name": "stdout",
     "output_type": "stream",
     "text": [
      "{0, 2, 4, 6}\n"
     ]
    }
   ],
   "source": [
    "print({num for num in range(7) if num % 2 == 0})"
   ]
  }
 ],
 "metadata": {
  "kernelspec": {
   "display_name": "base",
   "language": "python",
   "name": "python3"
  },
  "language_info": {
   "codemirror_mode": {
    "name": "ipython",
    "version": 3
   },
   "file_extension": ".py",
   "mimetype": "text/x-python",
   "name": "python",
   "nbconvert_exporter": "python",
   "pygments_lexer": "ipython3",
   "version": "3.12.4"
  }
 },
 "nbformat": 4,
 "nbformat_minor": 5
}
